{
 "cells": [
  {
   "cell_type": "code",
   "execution_count": 3,
   "metadata": {},
   "outputs": [],
   "source": [
    "import json"
   ]
  },
  {
   "cell_type": "code",
   "execution_count": 76,
   "metadata": {},
   "outputs": [],
   "source": [
    "def read_json():\n",
    "    path = '/home/trz846/representation_learning/scripts/streamlit_apps/tape_performance.py'\n",
    "    path = str(path.split('/scripts')[0])+'/models/downstream_performance/downstream_performance.json'\n",
    "    with open(path, 'r') as json_file:\n",
    "        data_dict = json.load(json_file)\n",
    "    return data_dict\n",
    "\n",
    "\n",
    "data_dict = read_json()\n",
    "\n"
   ]
  },
  {
   "cell_type": "code",
   "execution_count": 77,
   "metadata": {},
   "outputs": [
    {
     "data": {
      "text/plain": [
       "['cnn_strided_ls500_2fc_seq63.py_ks3',\n",
       " 'cnn_strided_ls500_1fc_seq63.py_ks7',\n",
       " 'cnn_strided_ls500_1fc_seq63.py_ks11',\n",
       " 'cnn_strided_ls500_1fc_seq63.py_ks9',\n",
       " 'cnn_strided_ls500_0fc_seq4.py_ks9',\n",
       " 'cnn_strided_ls500_0fc_seq4.py_ks5',\n",
       " 'cnn_strided_ls504_0fc_seq63.py_ks11',\n",
       " 'cnn_strided_ls500_0fc_seq4.py_ks11',\n",
       " 'cnn_strided_ls500_0fc_seq4.py_ks7',\n",
       " 'cnn_strided_ls500_2fc_seq63.py_ks5',\n",
       " 'cnn_strided_ls500_1fc_seq63.py_ks3',\n",
       " 'cnn_strided_ls504_0fc_seq63.py_ks3',\n",
       " 'cnn_strided_ls500_0fc_seq4.py_ks3',\n",
       " 'cnn_avgpool_ls500_1fc_seq63.py_ks7_kp7',\n",
       " 'cnn_avgpool_ls500_1fc_seq63.py_ks5_kp5',\n",
       " 'cnn_avgpool_ls500_1fc_seq63.py_ks9_kp3',\n",
       " 'cnn_avgpool_ls500_1fc_seq63.py_ks2_kp2']"
      ]
     },
     "execution_count": 77,
     "metadata": {},
     "output_type": "execute_result"
    }
   ],
   "source": [
    "list(data_dict.keys())"
   ]
  },
  {
   "cell_type": "code",
   "execution_count": 72,
   "metadata": {},
   "outputs": [
    {
     "data": {
      "text/plain": [
       "{'MODEL_PARAMS': {'latent_size': 500,\n",
       "  'layers': 8,\n",
       "  'fully_con': 1,\n",
       "  'compression_seq': 60,\n",
       "  'channels': 100,\n",
       "  'ks_conv': 2,\n",
       "  'str_conv': 1,\n",
       "  'pad_conv': 0,\n",
       "  'ks_pool': 2,\n",
       "  'str_pool': 2,\n",
       "  'pad_pool': 0},\n",
       " 'TAPE': {'fluorescence': {'MSE': 1.067, 'MAE': 0.788, 'S_Corr': 0.579}},\n",
       " 'DMS': {'protein_g': {'MSE': 1.664, 'P_corr': 0.55},\n",
       "  '1D5R': {'MSE': 0.062, 'P_corr': 0.57},\n",
       "  '2H11': {'MSE': 0.102, 'P_corr': 0.43}},\n",
       " 'PATHS': {'tape_dir': '/home/trz846/representation_learning/models/cnn_avgpool_ls500_1fc_seq63/kc2_kp2//tape/fluorescence/',\n",
       "  'log_file': '/home/trz846/representation_learning/models/cnn_avgpool_ls500_1fc_seq63/kc2_kp2//tape/fluorescence/logfile_params.log',\n",
       "  'DMS_dir': '/home/trz846/representation_learning/models/cnn_avgpool_ls500_1fc_seq63/kc2_kp2/DMS/'},\n",
       " 'PLOTS': {'fluorescence': '/home/trz846/representation_learning/models/cnn_avgpool_ls500_1fc_seq63/kc2_kp2//tape/fluorescence//plot_fluorescence.png',\n",
       "  'protein_g': '/home/trz846/representation_learning/models/cnn_avgpool_ls500_1fc_seq63/kc2_kp2/DMS/plot_DMS_protein_g.pdf',\n",
       "  '1D5R': '/home/trz846/representation_learning/models/cnn_avgpool_ls500_1fc_seq63/kc2_kp2/DMS/plot_DMS_1D5R.pdf',\n",
       "  '2H11': '/home/trz846/representation_learning/models/cnn_avgpool_ls500_1fc_seq63/kc2_kp2/DMS/plot_DMS_2H11.pdf'},\n",
       " 'NOTES': 'Additional notes\\n',\n",
       " 'DATE_LAST_ADDED': '2020-02-16',\n",
       " 'DECODER': {'acc': 0.6042802329861948, 'pad_acc': 0.9994710297612279}}"
      ]
     },
     "execution_count": 72,
     "metadata": {},
     "output_type": "execute_result"
    }
   ],
   "source": [
    "nn_model =         'cnn_avgpool_ls500_1fc_seq63_ks2_kp2.py'\n",
    "rename_nn_model = 'cnn_avgpool_ls500_1fc_seq63.py_ks2_kp2'\n",
    "data_dict[nn_model]"
   ]
  },
  {
   "cell_type": "code",
   "execution_count": 73,
   "metadata": {},
   "outputs": [],
   "source": [
    "tmp = data_dict[nn_model]"
   ]
  },
  {
   "cell_type": "code",
   "execution_count": 74,
   "metadata": {},
   "outputs": [
    {
     "name": "stdout",
     "output_type": "stream",
     "text": [
      "True\n"
     ]
    },
    {
     "data": {
      "text/plain": [
       "['cnn_strided_ls500_2fc_seq63.py_ks3',\n",
       " 'cnn_strided_ls500_1fc_seq63.py_ks7',\n",
       " 'cnn_strided_ls500_1fc_seq63.py_ks11',\n",
       " 'cnn_strided_ls500_1fc_seq63.py_ks9',\n",
       " 'cnn_strided_ls500_0fc_seq4.py_ks9',\n",
       " 'cnn_strided_ls500_0fc_seq4.py_ks5',\n",
       " 'cnn_strided_ls504_0fc_seq63.py_ks11',\n",
       " 'cnn_strided_ls500_0fc_seq4.py_ks11',\n",
       " 'cnn_strided_ls500_0fc_seq4.py_ks7',\n",
       " 'cnn_strided_ls500_2fc_seq63.py_ks5',\n",
       " 'cnn_strided_ls500_1fc_seq63.py_ks3',\n",
       " 'cnn_strided_ls504_0fc_seq63.py_ks3',\n",
       " 'cnn_strided_ls500_0fc_seq4.py_ks3',\n",
       " 'cnn_avgpool_ls500_1fc_seq63.py_ks7_kp7',\n",
       " 'cnn_avgpool_ls500_1fc_seq63.py_ks5_kp5',\n",
       " 'cnn_avgpool_ls500_1fc_seq63.py_ks9_kp3',\n",
       " 'cnn_avgpool_ls500_1fc_seq63.py_ks2_kp2']"
      ]
     },
     "execution_count": 74,
     "metadata": {},
     "output_type": "execute_result"
    }
   ],
   "source": [
    "# print(tmp==data_dict[nn_model])\n",
    "# data_dict[rename_nn_model]=tmp\n",
    "# # print\n",
    "# del data_dict[nn_model]\n",
    "# list(data_dict.keys())"
   ]
  },
  {
   "cell_type": "code",
   "execution_count": 75,
   "metadata": {},
   "outputs": [],
   "source": [
    "# save to dict\n",
    "json_path ='/home/trz846/representation_learning/models/downstream_performance/downstream_performance.json'\n",
    "with open(json_path, 'w') as json_file:\n",
    "        json.dump(data_dict, json_file)"
   ]
  },
  {
   "cell_type": "code",
   "execution_count": null,
   "metadata": {},
   "outputs": [],
   "source": []
  }
 ],
 "metadata": {
  "kernelspec": {
   "display_name": "Python 3",
   "language": "python",
   "name": "python3"
  },
  "language_info": {
   "codemirror_mode": {
    "name": "ipython",
    "version": 3
   },
   "file_extension": ".py",
   "mimetype": "text/x-python",
   "name": "python",
   "nbconvert_exporter": "python",
   "pygments_lexer": "ipython3",
   "version": "3.7.4"
  }
 },
 "nbformat": 4,
 "nbformat_minor": 4
}
