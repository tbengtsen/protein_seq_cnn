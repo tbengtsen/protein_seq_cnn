{
 "cells": [
  {
   "cell_type": "code",
   "execution_count": 2,
   "metadata": {},
   "outputs": [],
   "source": [
    "import sys\n",
    "import os\n",
    "import json\n",
    "from pandas.io.json import json_normalize\n",
    "import pandas as pd\n",
    "sys.path.insert(0, '/home/trz846/representation_learning/scripts/')\n",
    "from matplotlib import pyplot as plt\n",
    "#import utils\n"
   ]
  },
  {
   "cell_type": "code",
   "execution_count": 3,
   "metadata": {},
   "outputs": [],
   "source": [
    "import plotly\n",
    "import ipywidgets "
   ]
  },
  {
   "cell_type": "code",
   "execution_count": 4,
   "metadata": {},
   "outputs": [],
   "source": [
    "\n",
    "##### utils ####\n",
    "class GetData():\n",
    "    def __init__(self):\n",
    "        self.df = self.get_df()\n",
    "\n",
    "    def read_json(self):\n",
    "        '''reads in the performance table saved in \n",
    "        models.downstream_performance.json \n",
    "        '''\n",
    "        path = '/home/trz846/representation_learning/scripts/streamlit_apps/st_tape_performance.py'\n",
    "        path = str(path.split('/scripts')[0])\\\n",
    "            +'/models/downstream_performance/downstream_performance.json'\n",
    "        with open(path, 'r') as json_file:\n",
    "            data_dict = json.load(json_file)\n",
    "        return data_dict\n",
    "\n",
    "\n",
    "    def get_df(self):\n",
    "        '''reads json and converts to pandas df.\n",
    "        returns df of preformance table'''\n",
    "        data_dict = self.read_json()\n",
    "        model_data = []\n",
    "        nn_names = []\n",
    "        for key in data_dict.keys():\n",
    "            model_data.append(data_dict[key])\n",
    "            nn_names.append(key)\n",
    "\n",
    "        df = json_normalize(model_data)\n",
    "        df.insert(0, 'models', nn_names, True)\n",
    "        return df\n",
    "\n",
    "\n",
    "\n",
    "def get_selected_tasks(select_tasks):\n",
    "    tasks = []\n",
    "    if  'stability' in select_tasks or 'fluorescence' in select_tasks:\n",
    "        tape = [[f'TAPE.{i}.MAE',f'TAPE.{i}.MSE',f'TAPE.{i}.S_Corr'] for i in select_tasks if i in ['stability', 'fluorescence']]\n",
    "        tape = [i for sublist in tape for i in sublist]\n",
    "        tasks = tasks+tape\n",
    "\n",
    "    if  'DMS_2H11' in select_tasks or 'DMS_1D5R' in select_tasks:\n",
    "        dms = [i[-4:] for i in select_tasks  if i in ['DMS_2H11', 'DMS_1D5R']]\n",
    "        dms =  [[f'DMS.{i}.MAE',f'DMS.{i}.MSE',f'DMS.{i}.S_Corr'] for i in dms ]\n",
    "        dms = [i for sublist in dms for i in sublist] \n",
    "        tasks = tasks+dms\n",
    "\n",
    "    if  'DDG_protein_g' in select_tasks:\n",
    "        i = 'protein_g'\n",
    "        ddg = [[f'DMS.{i}.MAE',f'DMS.{i}.MSE',f'DMS.{i}.S_Corr']]\n",
    "        ddg = [i for sublist in ddg for i in sublist] \n",
    "        tasks = tasks+ddg\n",
    "    return tasks"
   ]
  },
  {
   "cell_type": "code",
   "execution_count": 15,
   "metadata": {},
   "outputs": [
    {
     "name": "stderr",
     "output_type": "stream",
     "text": [
      "/home/trz846/anaconda3/envs/streamlit/lib/python3.7/site-packages/ipykernel_launcher.py:28: FutureWarning:\n",
      "\n",
      "pandas.io.json.json_normalize is deprecated, use pandas.json_normalize instead\n",
      "\n"
     ]
    },
    {
     "data": {
      "text/html": [
       "<div>\n",
       "<style scoped>\n",
       "    .dataframe tbody tr th:only-of-type {\n",
       "        vertical-align: middle;\n",
       "    }\n",
       "\n",
       "    .dataframe tbody tr th {\n",
       "        vertical-align: top;\n",
       "    }\n",
       "\n",
       "    .dataframe thead th {\n",
       "        text-align: right;\n",
       "    }\n",
       "</style>\n",
       "<table border=\"1\" class=\"dataframe\">\n",
       "  <thead>\n",
       "    <tr style=\"text-align: right;\">\n",
       "      <th></th>\n",
       "      <th>models</th>\n",
       "      <th>NOTES</th>\n",
       "      <th>DATE_LAST_ADDED</th>\n",
       "      <th>MODEL_PARAMS.latent_size</th>\n",
       "      <th>MODEL_PARAMS.layers</th>\n",
       "      <th>MODEL_PARAMS.fully_con</th>\n",
       "      <th>MODEL_PARAMS.compression_seq</th>\n",
       "      <th>MODEL_PARAMS.channels</th>\n",
       "      <th>MODEL_PARAMS.ks_conv</th>\n",
       "      <th>MODEL_PARAMS.str_conv</th>\n",
       "      <th>...</th>\n",
       "      <th>PATHS.tape_dir</th>\n",
       "      <th>PATHS.log_file</th>\n",
       "      <th>PATHS.DMS_dir</th>\n",
       "      <th>PLOTS.stability</th>\n",
       "      <th>PLOTS.fluorescence</th>\n",
       "      <th>PLOTS.protein_g</th>\n",
       "      <th>PLOTS.1D5R</th>\n",
       "      <th>PLOTS.2H11</th>\n",
       "      <th>DECODER.acc</th>\n",
       "      <th>DECODER.pad_acc</th>\n",
       "    </tr>\n",
       "  </thead>\n",
       "  <tbody>\n",
       "    <tr>\n",
       "      <th>0</th>\n",
       "      <td>cnn_strided_ls500_2fc_seq63.py_ks3</td>\n",
       "      <td>Additional notes\\n</td>\n",
       "      <td>2020-02-15</td>\n",
       "      <td>500</td>\n",
       "      <td>5</td>\n",
       "      <td>2</td>\n",
       "      <td>63</td>\n",
       "      <td>100</td>\n",
       "      <td>3</td>\n",
       "      <td>2</td>\n",
       "      <td>...</td>\n",
       "      <td>/home/trz846/representation_learning/models/cn...</td>\n",
       "      <td>/home/trz846/representation_learning/models/cn...</td>\n",
       "      <td>/home/trz846/representation_learning/models/cn...</td>\n",
       "      <td>/home/trz846/representation_learning/models/cn...</td>\n",
       "      <td>/home/trz846/representation_learning/models/cn...</td>\n",
       "      <td>/home/trz846/representation_learning/models/cn...</td>\n",
       "      <td>/home/trz846/representation_learning/models/cn...</td>\n",
       "      <td>/home/trz846/representation_learning/models/cn...</td>\n",
       "      <td>0.540765</td>\n",
       "      <td>0.997717</td>\n",
       "    </tr>\n",
       "    <tr>\n",
       "      <th>1</th>\n",
       "      <td>cnn_strided_ls500_1fc_seq63.py_ks11</td>\n",
       "      <td>Additional notes\\n</td>\n",
       "      <td>2020-02-16</td>\n",
       "      <td>500</td>\n",
       "      <td>5</td>\n",
       "      <td>1</td>\n",
       "      <td>63</td>\n",
       "      <td>100</td>\n",
       "      <td>11</td>\n",
       "      <td>2</td>\n",
       "      <td>...</td>\n",
       "      <td>/home/trz846/representation_learning/models/cn...</td>\n",
       "      <td>/home/trz846/representation_learning/models/cn...</td>\n",
       "      <td>/home/trz846/representation_learning/models/cn...</td>\n",
       "      <td>/home/trz846/representation_learning/models/cn...</td>\n",
       "      <td>/home/trz846/representation_learning/models/cn...</td>\n",
       "      <td>/home/trz846/representation_learning/models/cn...</td>\n",
       "      <td>/home/trz846/representation_learning/models/cn...</td>\n",
       "      <td>/home/trz846/representation_learning/models/cn...</td>\n",
       "      <td>0.702360</td>\n",
       "      <td>0.998703</td>\n",
       "    </tr>\n",
       "    <tr>\n",
       "      <th>2</th>\n",
       "      <td>cnn_strided_ls500_1fc_seq63.py_ks9</td>\n",
       "      <td>Additional notes\\n</td>\n",
       "      <td>2020-02-15</td>\n",
       "      <td>500</td>\n",
       "      <td>5</td>\n",
       "      <td>1</td>\n",
       "      <td>63</td>\n",
       "      <td>100</td>\n",
       "      <td>9</td>\n",
       "      <td>2</td>\n",
       "      <td>...</td>\n",
       "      <td>/home/trz846/representation_learning/models/cn...</td>\n",
       "      <td>/home/trz846/representation_learning/models/cn...</td>\n",
       "      <td>/home/trz846/representation_learning/models/cn...</td>\n",
       "      <td>/home/trz846/representation_learning/models/cn...</td>\n",
       "      <td>/home/trz846/representation_learning/models/cn...</td>\n",
       "      <td>/home/trz846/representation_learning/models/cn...</td>\n",
       "      <td>/home/trz846/representation_learning/models/cn...</td>\n",
       "      <td>/home/trz846/representation_learning/models/cn...</td>\n",
       "      <td>0.661744</td>\n",
       "      <td>0.998609</td>\n",
       "    </tr>\n",
       "    <tr>\n",
       "      <th>3</th>\n",
       "      <td>cnn_strided_ls500_0fc_seq4.py_ks9</td>\n",
       "      <td>Additional notes\\n</td>\n",
       "      <td>2020-02-15</td>\n",
       "      <td>500</td>\n",
       "      <td>9</td>\n",
       "      <td>0</td>\n",
       "      <td>4</td>\n",
       "      <td>125</td>\n",
       "      <td>9</td>\n",
       "      <td>2</td>\n",
       "      <td>...</td>\n",
       "      <td>/home/trz846/representation_learning/models/cn...</td>\n",
       "      <td>/home/trz846/representation_learning/models/cn...</td>\n",
       "      <td>/home/trz846/representation_learning/models/cn...</td>\n",
       "      <td>/home/trz846/representation_learning/models/cn...</td>\n",
       "      <td>/home/trz846/representation_learning/models/cn...</td>\n",
       "      <td>/home/trz846/representation_learning/models/cn...</td>\n",
       "      <td>/home/trz846/representation_learning/models/cn...</td>\n",
       "      <td>/home/trz846/representation_learning/models/cn...</td>\n",
       "      <td>0.486639</td>\n",
       "      <td>0.999979</td>\n",
       "    </tr>\n",
       "    <tr>\n",
       "      <th>4</th>\n",
       "      <td>cnn_strided_ls500_0fc_seq4.py_ks5</td>\n",
       "      <td>Additional notes\\n</td>\n",
       "      <td>2020-02-16</td>\n",
       "      <td>500</td>\n",
       "      <td>9</td>\n",
       "      <td>0</td>\n",
       "      <td>4</td>\n",
       "      <td>125</td>\n",
       "      <td>5</td>\n",
       "      <td>2</td>\n",
       "      <td>...</td>\n",
       "      <td>/home/trz846/representation_learning/models/cn...</td>\n",
       "      <td>/home/trz846/representation_learning/models/cn...</td>\n",
       "      <td>/home/trz846/representation_learning/models/cn...</td>\n",
       "      <td>/home/trz846/representation_learning/models/cn...</td>\n",
       "      <td>/home/trz846/representation_learning/models/cn...</td>\n",
       "      <td>/home/trz846/representation_learning/models/cn...</td>\n",
       "      <td>/home/trz846/representation_learning/models/cn...</td>\n",
       "      <td>/home/trz846/representation_learning/models/cn...</td>\n",
       "      <td>0.499083</td>\n",
       "      <td>0.999988</td>\n",
       "    </tr>\n",
       "    <tr>\n",
       "      <th>5</th>\n",
       "      <td>cnn_strided_ls504_0fc_seq63.py_ks11</td>\n",
       "      <td>Additional notes\\n</td>\n",
       "      <td>2020-02-16</td>\n",
       "      <td>504</td>\n",
       "      <td>8</td>\n",
       "      <td>0</td>\n",
       "      <td>63</td>\n",
       "      <td>8</td>\n",
       "      <td>11</td>\n",
       "      <td>2</td>\n",
       "      <td>...</td>\n",
       "      <td>/home/trz846/representation_learning/models/cn...</td>\n",
       "      <td>/home/trz846/representation_learning/models/cn...</td>\n",
       "      <td>/home/trz846/representation_learning/models/cn...</td>\n",
       "      <td>/home/trz846/representation_learning/models/cn...</td>\n",
       "      <td>/home/trz846/representation_learning/models/cn...</td>\n",
       "      <td>/home/trz846/representation_learning/models/cn...</td>\n",
       "      <td>/home/trz846/representation_learning/models/cn...</td>\n",
       "      <td>/home/trz846/representation_learning/models/cn...</td>\n",
       "      <td>0.630036</td>\n",
       "      <td>0.999997</td>\n",
       "    </tr>\n",
       "    <tr>\n",
       "      <th>6</th>\n",
       "      <td>cnn_strided_ls500_0fc_seq4.py_ks11</td>\n",
       "      <td>Additional notes\\n</td>\n",
       "      <td>2020-02-16</td>\n",
       "      <td>500</td>\n",
       "      <td>9</td>\n",
       "      <td>0</td>\n",
       "      <td>4</td>\n",
       "      <td>125</td>\n",
       "      <td>11</td>\n",
       "      <td>2</td>\n",
       "      <td>...</td>\n",
       "      <td>/home/trz846/representation_learning/models/cn...</td>\n",
       "      <td>/home/trz846/representation_learning/models/cn...</td>\n",
       "      <td>/home/trz846/representation_learning/models/cn...</td>\n",
       "      <td>/home/trz846/representation_learning/models/cn...</td>\n",
       "      <td>/home/trz846/representation_learning/models/cn...</td>\n",
       "      <td>/home/trz846/representation_learning/models/cn...</td>\n",
       "      <td>/home/trz846/representation_learning/models/cn...</td>\n",
       "      <td>/home/trz846/representation_learning/models/cn...</td>\n",
       "      <td>0.508475</td>\n",
       "      <td>0.999953</td>\n",
       "    </tr>\n",
       "    <tr>\n",
       "      <th>7</th>\n",
       "      <td>cnn_strided_ls500_2fc_seq63.py_ks5</td>\n",
       "      <td>Additional notes\\n</td>\n",
       "      <td>2020-02-15</td>\n",
       "      <td>500</td>\n",
       "      <td>5</td>\n",
       "      <td>2</td>\n",
       "      <td>63</td>\n",
       "      <td>100</td>\n",
       "      <td>5</td>\n",
       "      <td>2</td>\n",
       "      <td>...</td>\n",
       "      <td>/home/trz846/representation_learning/models/cn...</td>\n",
       "      <td>/home/trz846/representation_learning/models/cn...</td>\n",
       "      <td>/home/trz846/representation_learning/models/cn...</td>\n",
       "      <td>/home/trz846/representation_learning/models/cn...</td>\n",
       "      <td>/home/trz846/representation_learning/models/cn...</td>\n",
       "      <td>/home/trz846/representation_learning/models/cn...</td>\n",
       "      <td>/home/trz846/representation_learning/models/cn...</td>\n",
       "      <td>/home/trz846/representation_learning/models/cn...</td>\n",
       "      <td>0.465288</td>\n",
       "      <td>0.999938</td>\n",
       "    </tr>\n",
       "    <tr>\n",
       "      <th>8</th>\n",
       "      <td>cnn_strided_ls500_1fc_seq63.py_ks3</td>\n",
       "      <td>Additional notes\\n</td>\n",
       "      <td>2020-02-15</td>\n",
       "      <td>500</td>\n",
       "      <td>5</td>\n",
       "      <td>1</td>\n",
       "      <td>63</td>\n",
       "      <td>100</td>\n",
       "      <td>3</td>\n",
       "      <td>2</td>\n",
       "      <td>...</td>\n",
       "      <td>/home/trz846/representation_learning/models/cn...</td>\n",
       "      <td>/home/trz846/representation_learning/models/cn...</td>\n",
       "      <td>/home/trz846/representation_learning/models/cn...</td>\n",
       "      <td>/home/trz846/representation_learning/models/cn...</td>\n",
       "      <td>/home/trz846/representation_learning/models/cn...</td>\n",
       "      <td>/home/trz846/representation_learning/models/cn...</td>\n",
       "      <td>/home/trz846/representation_learning/models/cn...</td>\n",
       "      <td>/home/trz846/representation_learning/models/cn...</td>\n",
       "      <td>0.821243</td>\n",
       "      <td>0.999966</td>\n",
       "    </tr>\n",
       "    <tr>\n",
       "      <th>9</th>\n",
       "      <td>cnn_strided_ls504_0fc_seq63.py_ks3</td>\n",
       "      <td>Additional notes\\n</td>\n",
       "      <td>2020-02-16</td>\n",
       "      <td>504</td>\n",
       "      <td>8</td>\n",
       "      <td>0</td>\n",
       "      <td>63</td>\n",
       "      <td>8</td>\n",
       "      <td>3</td>\n",
       "      <td>2</td>\n",
       "      <td>...</td>\n",
       "      <td>/home/trz846/representation_learning/models/cn...</td>\n",
       "      <td>/home/trz846/representation_learning/models/cn...</td>\n",
       "      <td>/home/trz846/representation_learning/models/cn...</td>\n",
       "      <td>/home/trz846/representation_learning/models/cn...</td>\n",
       "      <td>/home/trz846/representation_learning/models/cn...</td>\n",
       "      <td>/home/trz846/representation_learning/models/cn...</td>\n",
       "      <td>/home/trz846/representation_learning/models/cn...</td>\n",
       "      <td>/home/trz846/representation_learning/models/cn...</td>\n",
       "      <td>0.723673</td>\n",
       "      <td>0.999995</td>\n",
       "    </tr>\n",
       "    <tr>\n",
       "      <th>10</th>\n",
       "      <td>cnn_strided_ls500_0fc_seq4.py_ks3</td>\n",
       "      <td>Additional notes\\n</td>\n",
       "      <td>2020-02-15</td>\n",
       "      <td>500</td>\n",
       "      <td>9</td>\n",
       "      <td>0</td>\n",
       "      <td>4</td>\n",
       "      <td>125</td>\n",
       "      <td>3</td>\n",
       "      <td>2</td>\n",
       "      <td>...</td>\n",
       "      <td>/home/trz846/representation_learning/models/cn...</td>\n",
       "      <td>/home/trz846/representation_learning/models/cn...</td>\n",
       "      <td>/home/trz846/representation_learning/models/cn...</td>\n",
       "      <td>/home/trz846/representation_learning/models/cn...</td>\n",
       "      <td>/home/trz846/representation_learning/models/cn...</td>\n",
       "      <td>/home/trz846/representation_learning/models/cn...</td>\n",
       "      <td>/home/trz846/representation_learning/models/cn...</td>\n",
       "      <td>/home/trz846/representation_learning/models/cn...</td>\n",
       "      <td>0.723673</td>\n",
       "      <td>0.999995</td>\n",
       "    </tr>\n",
       "    <tr>\n",
       "      <th>11</th>\n",
       "      <td>cnn_avgpool_ls500_1fc_seq63.py_ks5_kp5</td>\n",
       "      <td>NaN</td>\n",
       "      <td>NaN</td>\n",
       "      <td>500</td>\n",
       "      <td>5</td>\n",
       "      <td>1</td>\n",
       "      <td>65</td>\n",
       "      <td>100</td>\n",
       "      <td>5</td>\n",
       "      <td>1</td>\n",
       "      <td>...</td>\n",
       "      <td>NaN</td>\n",
       "      <td>NaN</td>\n",
       "      <td>/home/trz846/representation_learning/models/cn...</td>\n",
       "      <td>NaN</td>\n",
       "      <td>NaN</td>\n",
       "      <td>/home/trz846/representation_learning/models/cn...</td>\n",
       "      <td>/home/trz846/representation_learning/models/cn...</td>\n",
       "      <td>/home/trz846/representation_learning/models/cn...</td>\n",
       "      <td>0.648299</td>\n",
       "      <td>0.999908</td>\n",
       "    </tr>\n",
       "    <tr>\n",
       "      <th>12</th>\n",
       "      <td>cnn_avgpool_ls500_1fc_seq63.py_ks9_kp3</td>\n",
       "      <td>Additional notes\\n</td>\n",
       "      <td>2020-02-16</td>\n",
       "      <td>500</td>\n",
       "      <td>5</td>\n",
       "      <td>1</td>\n",
       "      <td>63</td>\n",
       "      <td>100</td>\n",
       "      <td>9</td>\n",
       "      <td>1</td>\n",
       "      <td>...</td>\n",
       "      <td>/home/trz846/representation_learning/models/cn...</td>\n",
       "      <td>/home/trz846/representation_learning/models/cn...</td>\n",
       "      <td>/home/trz846/representation_learning/models/cn...</td>\n",
       "      <td>/home/trz846/representation_learning/models/cn...</td>\n",
       "      <td>/home/trz846/representation_learning/models/cn...</td>\n",
       "      <td>/home/trz846/representation_learning/models/cn...</td>\n",
       "      <td>/home/trz846/representation_learning/models/cn...</td>\n",
       "      <td>/home/trz846/representation_learning/models/cn...</td>\n",
       "      <td>0.688166</td>\n",
       "      <td>0.999474</td>\n",
       "    </tr>\n",
       "    <tr>\n",
       "      <th>13</th>\n",
       "      <td>cnn_avgpool_ls500_1fc_seq63.py_ks2_kp2</td>\n",
       "      <td>Additional notes\\n</td>\n",
       "      <td>2020-02-16</td>\n",
       "      <td>500</td>\n",
       "      <td>5</td>\n",
       "      <td>1</td>\n",
       "      <td>63</td>\n",
       "      <td>100</td>\n",
       "      <td>3</td>\n",
       "      <td>1</td>\n",
       "      <td>...</td>\n",
       "      <td>/home/trz846/representation_learning/models/cn...</td>\n",
       "      <td>/home/trz846/representation_learning/models/cn...</td>\n",
       "      <td>/home/trz846/representation_learning/models/cn...</td>\n",
       "      <td>NaN</td>\n",
       "      <td>/home/trz846/representation_learning/models/cn...</td>\n",
       "      <td>/home/trz846/representation_learning/models/cn...</td>\n",
       "      <td>/home/trz846/representation_learning/models/cn...</td>\n",
       "      <td>/home/trz846/representation_learning/models/cn...</td>\n",
       "      <td>0.604280</td>\n",
       "      <td>0.999471</td>\n",
       "    </tr>\n",
       "    <tr>\n",
       "      <th>14</th>\n",
       "      <td>cnn_autoencode_AA.py</td>\n",
       "      <td>NaN</td>\n",
       "      <td>NaN</td>\n",
       "      <td>500</td>\n",
       "      <td>5</td>\n",
       "      <td>0</td>\n",
       "      <td>500</td>\n",
       "      <td>1</td>\n",
       "      <td>5</td>\n",
       "      <td>2</td>\n",
       "      <td>...</td>\n",
       "      <td>NaN</td>\n",
       "      <td>NaN</td>\n",
       "      <td>/home/trz846/representation_learning/models/cn...</td>\n",
       "      <td>NaN</td>\n",
       "      <td>NaN</td>\n",
       "      <td>/home/trz846/representation_learning/models/cn...</td>\n",
       "      <td>/home/trz846/representation_learning/models/cn...</td>\n",
       "      <td>/home/trz846/representation_learning/models/cn...</td>\n",
       "      <td>0.999997</td>\n",
       "      <td>1.000000</td>\n",
       "    </tr>\n",
       "  </tbody>\n",
       "</table>\n",
       "<p>15 rows × 36 columns</p>\n",
       "</div>"
      ],
      "text/plain": [
       "                                    models               NOTES  \\\n",
       "0       cnn_strided_ls500_2fc_seq63.py_ks3  Additional notes\\n   \n",
       "1      cnn_strided_ls500_1fc_seq63.py_ks11  Additional notes\\n   \n",
       "2       cnn_strided_ls500_1fc_seq63.py_ks9  Additional notes\\n   \n",
       "3        cnn_strided_ls500_0fc_seq4.py_ks9  Additional notes\\n   \n",
       "4        cnn_strided_ls500_0fc_seq4.py_ks5  Additional notes\\n   \n",
       "5      cnn_strided_ls504_0fc_seq63.py_ks11  Additional notes\\n   \n",
       "6       cnn_strided_ls500_0fc_seq4.py_ks11  Additional notes\\n   \n",
       "7       cnn_strided_ls500_2fc_seq63.py_ks5  Additional notes\\n   \n",
       "8       cnn_strided_ls500_1fc_seq63.py_ks3  Additional notes\\n   \n",
       "9       cnn_strided_ls504_0fc_seq63.py_ks3  Additional notes\\n   \n",
       "10       cnn_strided_ls500_0fc_seq4.py_ks3  Additional notes\\n   \n",
       "11  cnn_avgpool_ls500_1fc_seq63.py_ks5_kp5                 NaN   \n",
       "12  cnn_avgpool_ls500_1fc_seq63.py_ks9_kp3  Additional notes\\n   \n",
       "13  cnn_avgpool_ls500_1fc_seq63.py_ks2_kp2  Additional notes\\n   \n",
       "14                    cnn_autoencode_AA.py                 NaN   \n",
       "\n",
       "   DATE_LAST_ADDED  MODEL_PARAMS.latent_size  MODEL_PARAMS.layers  \\\n",
       "0       2020-02-15                       500                    5   \n",
       "1       2020-02-16                       500                    5   \n",
       "2       2020-02-15                       500                    5   \n",
       "3       2020-02-15                       500                    9   \n",
       "4       2020-02-16                       500                    9   \n",
       "5       2020-02-16                       504                    8   \n",
       "6       2020-02-16                       500                    9   \n",
       "7       2020-02-15                       500                    5   \n",
       "8       2020-02-15                       500                    5   \n",
       "9       2020-02-16                       504                    8   \n",
       "10      2020-02-15                       500                    9   \n",
       "11             NaN                       500                    5   \n",
       "12      2020-02-16                       500                    5   \n",
       "13      2020-02-16                       500                    5   \n",
       "14             NaN                       500                    5   \n",
       "\n",
       "    MODEL_PARAMS.fully_con  MODEL_PARAMS.compression_seq  \\\n",
       "0                        2                            63   \n",
       "1                        1                            63   \n",
       "2                        1                            63   \n",
       "3                        0                             4   \n",
       "4                        0                             4   \n",
       "5                        0                            63   \n",
       "6                        0                             4   \n",
       "7                        2                            63   \n",
       "8                        1                            63   \n",
       "9                        0                            63   \n",
       "10                       0                             4   \n",
       "11                       1                            65   \n",
       "12                       1                            63   \n",
       "13                       1                            63   \n",
       "14                       0                           500   \n",
       "\n",
       "    MODEL_PARAMS.channels  MODEL_PARAMS.ks_conv  MODEL_PARAMS.str_conv  ...  \\\n",
       "0                     100                     3                      2  ...   \n",
       "1                     100                    11                      2  ...   \n",
       "2                     100                     9                      2  ...   \n",
       "3                     125                     9                      2  ...   \n",
       "4                     125                     5                      2  ...   \n",
       "5                       8                    11                      2  ...   \n",
       "6                     125                    11                      2  ...   \n",
       "7                     100                     5                      2  ...   \n",
       "8                     100                     3                      2  ...   \n",
       "9                       8                     3                      2  ...   \n",
       "10                    125                     3                      2  ...   \n",
       "11                    100                     5                      1  ...   \n",
       "12                    100                     9                      1  ...   \n",
       "13                    100                     3                      1  ...   \n",
       "14                      1                     5                      2  ...   \n",
       "\n",
       "                                       PATHS.tape_dir  \\\n",
       "0   /home/trz846/representation_learning/models/cn...   \n",
       "1   /home/trz846/representation_learning/models/cn...   \n",
       "2   /home/trz846/representation_learning/models/cn...   \n",
       "3   /home/trz846/representation_learning/models/cn...   \n",
       "4   /home/trz846/representation_learning/models/cn...   \n",
       "5   /home/trz846/representation_learning/models/cn...   \n",
       "6   /home/trz846/representation_learning/models/cn...   \n",
       "7   /home/trz846/representation_learning/models/cn...   \n",
       "8   /home/trz846/representation_learning/models/cn...   \n",
       "9   /home/trz846/representation_learning/models/cn...   \n",
       "10  /home/trz846/representation_learning/models/cn...   \n",
       "11                                                NaN   \n",
       "12  /home/trz846/representation_learning/models/cn...   \n",
       "13  /home/trz846/representation_learning/models/cn...   \n",
       "14                                                NaN   \n",
       "\n",
       "                                       PATHS.log_file  \\\n",
       "0   /home/trz846/representation_learning/models/cn...   \n",
       "1   /home/trz846/representation_learning/models/cn...   \n",
       "2   /home/trz846/representation_learning/models/cn...   \n",
       "3   /home/trz846/representation_learning/models/cn...   \n",
       "4   /home/trz846/representation_learning/models/cn...   \n",
       "5   /home/trz846/representation_learning/models/cn...   \n",
       "6   /home/trz846/representation_learning/models/cn...   \n",
       "7   /home/trz846/representation_learning/models/cn...   \n",
       "8   /home/trz846/representation_learning/models/cn...   \n",
       "9   /home/trz846/representation_learning/models/cn...   \n",
       "10  /home/trz846/representation_learning/models/cn...   \n",
       "11                                                NaN   \n",
       "12  /home/trz846/representation_learning/models/cn...   \n",
       "13  /home/trz846/representation_learning/models/cn...   \n",
       "14                                                NaN   \n",
       "\n",
       "                                        PATHS.DMS_dir  \\\n",
       "0   /home/trz846/representation_learning/models/cn...   \n",
       "1   /home/trz846/representation_learning/models/cn...   \n",
       "2   /home/trz846/representation_learning/models/cn...   \n",
       "3   /home/trz846/representation_learning/models/cn...   \n",
       "4   /home/trz846/representation_learning/models/cn...   \n",
       "5   /home/trz846/representation_learning/models/cn...   \n",
       "6   /home/trz846/representation_learning/models/cn...   \n",
       "7   /home/trz846/representation_learning/models/cn...   \n",
       "8   /home/trz846/representation_learning/models/cn...   \n",
       "9   /home/trz846/representation_learning/models/cn...   \n",
       "10  /home/trz846/representation_learning/models/cn...   \n",
       "11  /home/trz846/representation_learning/models/cn...   \n",
       "12  /home/trz846/representation_learning/models/cn...   \n",
       "13  /home/trz846/representation_learning/models/cn...   \n",
       "14  /home/trz846/representation_learning/models/cn...   \n",
       "\n",
       "                                      PLOTS.stability  \\\n",
       "0   /home/trz846/representation_learning/models/cn...   \n",
       "1   /home/trz846/representation_learning/models/cn...   \n",
       "2   /home/trz846/representation_learning/models/cn...   \n",
       "3   /home/trz846/representation_learning/models/cn...   \n",
       "4   /home/trz846/representation_learning/models/cn...   \n",
       "5   /home/trz846/representation_learning/models/cn...   \n",
       "6   /home/trz846/representation_learning/models/cn...   \n",
       "7   /home/trz846/representation_learning/models/cn...   \n",
       "8   /home/trz846/representation_learning/models/cn...   \n",
       "9   /home/trz846/representation_learning/models/cn...   \n",
       "10  /home/trz846/representation_learning/models/cn...   \n",
       "11                                                NaN   \n",
       "12  /home/trz846/representation_learning/models/cn...   \n",
       "13                                                NaN   \n",
       "14                                                NaN   \n",
       "\n",
       "                                   PLOTS.fluorescence  \\\n",
       "0   /home/trz846/representation_learning/models/cn...   \n",
       "1   /home/trz846/representation_learning/models/cn...   \n",
       "2   /home/trz846/representation_learning/models/cn...   \n",
       "3   /home/trz846/representation_learning/models/cn...   \n",
       "4   /home/trz846/representation_learning/models/cn...   \n",
       "5   /home/trz846/representation_learning/models/cn...   \n",
       "6   /home/trz846/representation_learning/models/cn...   \n",
       "7   /home/trz846/representation_learning/models/cn...   \n",
       "8   /home/trz846/representation_learning/models/cn...   \n",
       "9   /home/trz846/representation_learning/models/cn...   \n",
       "10  /home/trz846/representation_learning/models/cn...   \n",
       "11                                                NaN   \n",
       "12  /home/trz846/representation_learning/models/cn...   \n",
       "13  /home/trz846/representation_learning/models/cn...   \n",
       "14                                                NaN   \n",
       "\n",
       "                                      PLOTS.protein_g  \\\n",
       "0   /home/trz846/representation_learning/models/cn...   \n",
       "1   /home/trz846/representation_learning/models/cn...   \n",
       "2   /home/trz846/representation_learning/models/cn...   \n",
       "3   /home/trz846/representation_learning/models/cn...   \n",
       "4   /home/trz846/representation_learning/models/cn...   \n",
       "5   /home/trz846/representation_learning/models/cn...   \n",
       "6   /home/trz846/representation_learning/models/cn...   \n",
       "7   /home/trz846/representation_learning/models/cn...   \n",
       "8   /home/trz846/representation_learning/models/cn...   \n",
       "9   /home/trz846/representation_learning/models/cn...   \n",
       "10  /home/trz846/representation_learning/models/cn...   \n",
       "11  /home/trz846/representation_learning/models/cn...   \n",
       "12  /home/trz846/representation_learning/models/cn...   \n",
       "13  /home/trz846/representation_learning/models/cn...   \n",
       "14  /home/trz846/representation_learning/models/cn...   \n",
       "\n",
       "                                           PLOTS.1D5R  \\\n",
       "0   /home/trz846/representation_learning/models/cn...   \n",
       "1   /home/trz846/representation_learning/models/cn...   \n",
       "2   /home/trz846/representation_learning/models/cn...   \n",
       "3   /home/trz846/representation_learning/models/cn...   \n",
       "4   /home/trz846/representation_learning/models/cn...   \n",
       "5   /home/trz846/representation_learning/models/cn...   \n",
       "6   /home/trz846/representation_learning/models/cn...   \n",
       "7   /home/trz846/representation_learning/models/cn...   \n",
       "8   /home/trz846/representation_learning/models/cn...   \n",
       "9   /home/trz846/representation_learning/models/cn...   \n",
       "10  /home/trz846/representation_learning/models/cn...   \n",
       "11  /home/trz846/representation_learning/models/cn...   \n",
       "12  /home/trz846/representation_learning/models/cn...   \n",
       "13  /home/trz846/representation_learning/models/cn...   \n",
       "14  /home/trz846/representation_learning/models/cn...   \n",
       "\n",
       "                                           PLOTS.2H11  DECODER.acc  \\\n",
       "0   /home/trz846/representation_learning/models/cn...     0.540765   \n",
       "1   /home/trz846/representation_learning/models/cn...     0.702360   \n",
       "2   /home/trz846/representation_learning/models/cn...     0.661744   \n",
       "3   /home/trz846/representation_learning/models/cn...     0.486639   \n",
       "4   /home/trz846/representation_learning/models/cn...     0.499083   \n",
       "5   /home/trz846/representation_learning/models/cn...     0.630036   \n",
       "6   /home/trz846/representation_learning/models/cn...     0.508475   \n",
       "7   /home/trz846/representation_learning/models/cn...     0.465288   \n",
       "8   /home/trz846/representation_learning/models/cn...     0.821243   \n",
       "9   /home/trz846/representation_learning/models/cn...     0.723673   \n",
       "10  /home/trz846/representation_learning/models/cn...     0.723673   \n",
       "11  /home/trz846/representation_learning/models/cn...     0.648299   \n",
       "12  /home/trz846/representation_learning/models/cn...     0.688166   \n",
       "13  /home/trz846/representation_learning/models/cn...     0.604280   \n",
       "14  /home/trz846/representation_learning/models/cn...     0.999997   \n",
       "\n",
       "    DECODER.pad_acc  \n",
       "0          0.997717  \n",
       "1          0.998703  \n",
       "2          0.998609  \n",
       "3          0.999979  \n",
       "4          0.999988  \n",
       "5          0.999997  \n",
       "6          0.999953  \n",
       "7          0.999938  \n",
       "8          0.999966  \n",
       "9          0.999995  \n",
       "10         0.999995  \n",
       "11         0.999908  \n",
       "12         0.999474  \n",
       "13         0.999471  \n",
       "14         1.000000  \n",
       "\n",
       "[15 rows x 36 columns]"
      ]
     },
     "execution_count": 15,
     "metadata": {},
     "output_type": "execute_result"
    }
   ],
   "source": [
    "# read in table in streamlit \n",
    "#@st.cachedata.columns\n",
    "df = GetData().df\n",
    "df\n",
    "# print(df.columns())\n",
    "# for c in df.columns.tolist():\n",
    "#     print(c)\n",
    "# down_tasks = ['stability', 'fluorescence', 'DDG_protein_g', 'DMS_2H11', 'DMS_1D5R']\n",
    "# select_tasks=['DMS_2H11', 'fluorescence','DDG_protein_g']\n",
    "# tasks = get_selected_tasks(select_tasks)\n",
    "# df['models'].tolist()"
   ]
  },
  {
   "cell_type": "code",
   "execution_count": 5,
   "metadata": {},
   "outputs": [
    {
     "ename": "IndexError",
     "evalue": "index 0 is out of bounds for axis 0 with size 0",
     "output_type": "error",
     "traceback": [
      "\u001b[0;31m---------------------------------------------------------------------------\u001b[0m",
      "\u001b[0;31mKeyError\u001b[0m                                  Traceback (most recent call last)",
      "\u001b[0;32m~/anaconda3/envs/streamlit/lib/python3.7/site-packages/pandas/core/series.py\u001b[0m in \u001b[0;36m_set_with_engine\u001b[0;34m(self, key, value)\u001b[0m\n\u001b[1;32m   1053\u001b[0m         \u001b[0;32mtry\u001b[0m\u001b[0;34m:\u001b[0m\u001b[0;34m\u001b[0m\u001b[0;34m\u001b[0m\u001b[0m\n\u001b[0;32m-> 1054\u001b[0;31m             \u001b[0mself\u001b[0m\u001b[0;34m.\u001b[0m\u001b[0mindex\u001b[0m\u001b[0;34m.\u001b[0m\u001b[0m_engine\u001b[0m\u001b[0;34m.\u001b[0m\u001b[0mset_value\u001b[0m\u001b[0;34m(\u001b[0m\u001b[0mvalues\u001b[0m\u001b[0;34m,\u001b[0m \u001b[0mkey\u001b[0m\u001b[0;34m,\u001b[0m \u001b[0mvalue\u001b[0m\u001b[0;34m)\u001b[0m\u001b[0;34m\u001b[0m\u001b[0;34m\u001b[0m\u001b[0m\n\u001b[0m\u001b[1;32m   1055\u001b[0m             \u001b[0;32mreturn\u001b[0m\u001b[0;34m\u001b[0m\u001b[0;34m\u001b[0m\u001b[0m\n",
      "\u001b[0;32mpandas/_libs/index.pyx\u001b[0m in \u001b[0;36mpandas._libs.index.IndexEngine.set_value\u001b[0;34m()\u001b[0m\n",
      "\u001b[0;32mpandas/_libs/index.pyx\u001b[0m in \u001b[0;36mpandas._libs.index.IndexEngine.set_value\u001b[0;34m()\u001b[0m\n",
      "\u001b[0;32mpandas/_libs/index.pyx\u001b[0m in \u001b[0;36mpandas._libs.index.IndexEngine.get_loc\u001b[0;34m()\u001b[0m\n",
      "\u001b[0;32mpandas/_libs/hashtable_class_helper.pxi\u001b[0m in \u001b[0;36mpandas._libs.hashtable.PyObjectHashTable.get_item\u001b[0;34m()\u001b[0m\n",
      "\u001b[0;32mpandas/_libs/hashtable_class_helper.pxi\u001b[0m in \u001b[0;36mpandas._libs.hashtable.PyObjectHashTable.get_item\u001b[0;34m()\u001b[0m\n",
      "\u001b[0;31mKeyError\u001b[0m: 0",
      "\nDuring handling of the above exception, another exception occurred:\n",
      "\u001b[0;31mKeyError\u001b[0m                                  Traceback (most recent call last)",
      "\u001b[0;32m~/anaconda3/envs/streamlit/lib/python3.7/site-packages/pandas/core/indexes/base.py\u001b[0m in \u001b[0;36mget_loc\u001b[0;34m(self, key, method, tolerance)\u001b[0m\n\u001b[1;32m   2645\u001b[0m             \u001b[0;32mtry\u001b[0m\u001b[0;34m:\u001b[0m\u001b[0;34m\u001b[0m\u001b[0;34m\u001b[0m\u001b[0m\n\u001b[0;32m-> 2646\u001b[0;31m                 \u001b[0;32mreturn\u001b[0m \u001b[0mself\u001b[0m\u001b[0;34m.\u001b[0m\u001b[0m_engine\u001b[0m\u001b[0;34m.\u001b[0m\u001b[0mget_loc\u001b[0m\u001b[0;34m(\u001b[0m\u001b[0mkey\u001b[0m\u001b[0;34m)\u001b[0m\u001b[0;34m\u001b[0m\u001b[0;34m\u001b[0m\u001b[0m\n\u001b[0m\u001b[1;32m   2647\u001b[0m             \u001b[0;32mexcept\u001b[0m \u001b[0mKeyError\u001b[0m\u001b[0;34m:\u001b[0m\u001b[0;34m\u001b[0m\u001b[0;34m\u001b[0m\u001b[0m\n",
      "\u001b[0;32mpandas/_libs/index.pyx\u001b[0m in \u001b[0;36mpandas._libs.index.IndexEngine.get_loc\u001b[0;34m()\u001b[0m\n",
      "\u001b[0;32mpandas/_libs/index.pyx\u001b[0m in \u001b[0;36mpandas._libs.index.IndexEngine.get_loc\u001b[0;34m()\u001b[0m\n",
      "\u001b[0;32mpandas/_libs/hashtable_class_helper.pxi\u001b[0m in \u001b[0;36mpandas._libs.hashtable.PyObjectHashTable.get_item\u001b[0;34m()\u001b[0m\n",
      "\u001b[0;32mpandas/_libs/hashtable_class_helper.pxi\u001b[0m in \u001b[0;36mpandas._libs.hashtable.PyObjectHashTable.get_item\u001b[0;34m()\u001b[0m\n",
      "\u001b[0;31mKeyError\u001b[0m: 0",
      "\nDuring handling of the above exception, another exception occurred:\n",
      "\u001b[0;31mKeyError\u001b[0m                                  Traceback (most recent call last)",
      "\u001b[0;32m~/anaconda3/envs/streamlit/lib/python3.7/site-packages/pandas/core/series.py\u001b[0m in \u001b[0;36m__setitem__\u001b[0;34m(self, key, value)\u001b[0m\n\u001b[1;32m   1013\u001b[0m         \u001b[0;32mtry\u001b[0m\u001b[0;34m:\u001b[0m\u001b[0;34m\u001b[0m\u001b[0;34m\u001b[0m\u001b[0m\n\u001b[0;32m-> 1014\u001b[0;31m             \u001b[0mself\u001b[0m\u001b[0;34m.\u001b[0m\u001b[0m_set_with_engine\u001b[0m\u001b[0;34m(\u001b[0m\u001b[0mkey\u001b[0m\u001b[0;34m,\u001b[0m \u001b[0mvalue\u001b[0m\u001b[0;34m)\u001b[0m\u001b[0;34m\u001b[0m\u001b[0;34m\u001b[0m\u001b[0m\n\u001b[0m\u001b[1;32m   1015\u001b[0m         \u001b[0;32mexcept\u001b[0m \u001b[0mcom\u001b[0m\u001b[0;34m.\u001b[0m\u001b[0mSettingWithCopyError\u001b[0m\u001b[0;34m:\u001b[0m\u001b[0;34m\u001b[0m\u001b[0;34m\u001b[0m\u001b[0m\n",
      "\u001b[0;32m~/anaconda3/envs/streamlit/lib/python3.7/site-packages/pandas/core/series.py\u001b[0m in \u001b[0;36m_set_with_engine\u001b[0;34m(self, key, value)\u001b[0m\n\u001b[1;32m   1056\u001b[0m         \u001b[0;32mexcept\u001b[0m \u001b[0mKeyError\u001b[0m\u001b[0;34m:\u001b[0m\u001b[0;34m\u001b[0m\u001b[0;34m\u001b[0m\u001b[0m\n\u001b[0;32m-> 1057\u001b[0;31m             \u001b[0mvalues\u001b[0m\u001b[0;34m[\u001b[0m\u001b[0mself\u001b[0m\u001b[0;34m.\u001b[0m\u001b[0mindex\u001b[0m\u001b[0;34m.\u001b[0m\u001b[0mget_loc\u001b[0m\u001b[0;34m(\u001b[0m\u001b[0mkey\u001b[0m\u001b[0;34m)\u001b[0m\u001b[0;34m]\u001b[0m \u001b[0;34m=\u001b[0m \u001b[0mvalue\u001b[0m\u001b[0;34m\u001b[0m\u001b[0;34m\u001b[0m\u001b[0m\n\u001b[0m\u001b[1;32m   1058\u001b[0m             \u001b[0;32mreturn\u001b[0m\u001b[0;34m\u001b[0m\u001b[0;34m\u001b[0m\u001b[0m\n",
      "\u001b[0;32m~/anaconda3/envs/streamlit/lib/python3.7/site-packages/pandas/core/indexes/base.py\u001b[0m in \u001b[0;36mget_loc\u001b[0;34m(self, key, method, tolerance)\u001b[0m\n\u001b[1;32m   2647\u001b[0m             \u001b[0;32mexcept\u001b[0m \u001b[0mKeyError\u001b[0m\u001b[0;34m:\u001b[0m\u001b[0;34m\u001b[0m\u001b[0;34m\u001b[0m\u001b[0m\n\u001b[0;32m-> 2648\u001b[0;31m                 \u001b[0;32mreturn\u001b[0m \u001b[0mself\u001b[0m\u001b[0;34m.\u001b[0m\u001b[0m_engine\u001b[0m\u001b[0;34m.\u001b[0m\u001b[0mget_loc\u001b[0m\u001b[0;34m(\u001b[0m\u001b[0mself\u001b[0m\u001b[0;34m.\u001b[0m\u001b[0m_maybe_cast_indexer\u001b[0m\u001b[0;34m(\u001b[0m\u001b[0mkey\u001b[0m\u001b[0;34m)\u001b[0m\u001b[0;34m)\u001b[0m\u001b[0;34m\u001b[0m\u001b[0;34m\u001b[0m\u001b[0m\n\u001b[0m\u001b[1;32m   2649\u001b[0m         \u001b[0mindexer\u001b[0m \u001b[0;34m=\u001b[0m \u001b[0mself\u001b[0m\u001b[0;34m.\u001b[0m\u001b[0mget_indexer\u001b[0m\u001b[0;34m(\u001b[0m\u001b[0;34m[\u001b[0m\u001b[0mkey\u001b[0m\u001b[0;34m]\u001b[0m\u001b[0;34m,\u001b[0m \u001b[0mmethod\u001b[0m\u001b[0;34m=\u001b[0m\u001b[0mmethod\u001b[0m\u001b[0;34m,\u001b[0m \u001b[0mtolerance\u001b[0m\u001b[0;34m=\u001b[0m\u001b[0mtolerance\u001b[0m\u001b[0;34m)\u001b[0m\u001b[0;34m\u001b[0m\u001b[0;34m\u001b[0m\u001b[0m\n",
      "\u001b[0;32mpandas/_libs/index.pyx\u001b[0m in \u001b[0;36mpandas._libs.index.IndexEngine.get_loc\u001b[0;34m()\u001b[0m\n",
      "\u001b[0;32mpandas/_libs/index.pyx\u001b[0m in \u001b[0;36mpandas._libs.index.IndexEngine.get_loc\u001b[0;34m()\u001b[0m\n",
      "\u001b[0;32mpandas/_libs/hashtable_class_helper.pxi\u001b[0m in \u001b[0;36mpandas._libs.hashtable.PyObjectHashTable.get_item\u001b[0;34m()\u001b[0m\n",
      "\u001b[0;32mpandas/_libs/hashtable_class_helper.pxi\u001b[0m in \u001b[0;36mpandas._libs.hashtable.PyObjectHashTable.get_item\u001b[0;34m()\u001b[0m\n",
      "\u001b[0;31mKeyError\u001b[0m: 0",
      "\nDuring handling of the above exception, another exception occurred:\n",
      "\u001b[0;31mIndexError\u001b[0m                                Traceback (most recent call last)",
      "\u001b[0;32m<ipython-input-5-4f93642d3c02>\u001b[0m in \u001b[0;36m<module>\u001b[0;34m\u001b[0m\n\u001b[1;32m     25\u001b[0m \u001b[0;34m\u001b[0m\u001b[0m\n\u001b[1;32m     26\u001b[0m \u001b[0;31m# # df_input.append(df_output)\u001b[0m\u001b[0;34m\u001b[0m\u001b[0;34m\u001b[0m\u001b[0;34m\u001b[0m\u001b[0m\n\u001b[0;32m---> 27\u001b[0;31m \u001b[0mdf\u001b[0m \u001b[0;34m=\u001b[0m \u001b[0madd_unirep\u001b[0m\u001b[0;34m(\u001b[0m\u001b[0;34m)\u001b[0m\u001b[0;34m\u001b[0m\u001b[0;34m\u001b[0m\u001b[0m\n\u001b[0m\u001b[1;32m     28\u001b[0m \u001b[0mdf\u001b[0m\u001b[0;34m\u001b[0m\u001b[0;34m\u001b[0m\u001b[0m\n",
      "\u001b[0;32m<ipython-input-5-4f93642d3c02>\u001b[0m in \u001b[0;36madd_unirep\u001b[0;34m()\u001b[0m\n\u001b[1;32m      4\u001b[0m         \u001b[0mdf\u001b[0m \u001b[0;34m=\u001b[0m \u001b[0mpd\u001b[0m\u001b[0;34m.\u001b[0m\u001b[0mDataFrame\u001b[0m\u001b[0;34m(\u001b[0m\u001b[0mcolumns\u001b[0m\u001b[0;34m=\u001b[0m\u001b[0;34m[\u001b[0m\u001b[0;34m'models'\u001b[0m\u001b[0;34m,\u001b[0m\u001b[0;34m'MODEL'\u001b[0m\u001b[0;34m,\u001b[0m\u001b[0;34m'TAPE.stability.S_Corr'\u001b[0m\u001b[0;34m,\u001b[0m\u001b[0;34m'TAPE.fluorescence.S_Corr'\u001b[0m\u001b[0;34m]\u001b[0m\u001b[0;34m)\u001b[0m\u001b[0;34m\u001b[0m\u001b[0;34m\u001b[0m\u001b[0m\n\u001b[1;32m      5\u001b[0m         \u001b[0mmodel\u001b[0m \u001b[0;34m=\u001b[0m \u001b[0;34m'unirep'\u001b[0m\u001b[0;34m\u001b[0m\u001b[0;34m\u001b[0m\u001b[0m\n\u001b[0;32m----> 6\u001b[0;31m         \u001b[0mdf\u001b[0m\u001b[0;34m[\u001b[0m\u001b[0;34m'models'\u001b[0m\u001b[0;34m]\u001b[0m\u001b[0;34m[\u001b[0m\u001b[0;36m0\u001b[0m\u001b[0;34m]\u001b[0m \u001b[0;34m=\u001b[0m \u001b[0mmodel\u001b[0m\u001b[0;34m\u001b[0m\u001b[0;34m\u001b[0m\u001b[0m\n\u001b[0m\u001b[1;32m      7\u001b[0m         \u001b[0mdf\u001b[0m\u001b[0;34m[\u001b[0m\u001b[0;34m'MODEL'\u001b[0m\u001b[0;34m]\u001b[0m\u001b[0;34m[\u001b[0m\u001b[0;36m0\u001b[0m\u001b[0;34m]\u001b[0m\u001b[0;34m=\u001b[0m\u001b[0;34m'unirep'\u001b[0m\u001b[0;34m\u001b[0m\u001b[0;34m\u001b[0m\u001b[0m\n\u001b[1;32m      8\u001b[0m         \u001b[0mdf\u001b[0m\u001b[0;34m[\u001b[0m\u001b[0;34m'TAPE.stability.S_Corr'\u001b[0m\u001b[0;34m]\u001b[0m\u001b[0;34m[\u001b[0m\u001b[0;36m0\u001b[0m\u001b[0;34m]\u001b[0m\u001b[0;34m=\u001b[0m\u001b[0;36m0.73\u001b[0m\u001b[0;34m\u001b[0m\u001b[0;34m\u001b[0m\u001b[0m\n",
      "\u001b[0;32m~/anaconda3/envs/streamlit/lib/python3.7/site-packages/pandas/core/series.py\u001b[0m in \u001b[0;36m__setitem__\u001b[0;34m(self, key, value)\u001b[0m\n\u001b[1;32m   1018\u001b[0m             \u001b[0mvalues\u001b[0m \u001b[0;34m=\u001b[0m \u001b[0mself\u001b[0m\u001b[0;34m.\u001b[0m\u001b[0m_values\u001b[0m\u001b[0;34m\u001b[0m\u001b[0;34m\u001b[0m\u001b[0m\n\u001b[1;32m   1019\u001b[0m             \u001b[0;32mif\u001b[0m \u001b[0mis_integer\u001b[0m\u001b[0;34m(\u001b[0m\u001b[0mkey\u001b[0m\u001b[0;34m)\u001b[0m \u001b[0;32mand\u001b[0m \u001b[0;32mnot\u001b[0m \u001b[0mself\u001b[0m\u001b[0;34m.\u001b[0m\u001b[0mindex\u001b[0m\u001b[0;34m.\u001b[0m\u001b[0minferred_type\u001b[0m \u001b[0;34m==\u001b[0m \u001b[0;34m\"integer\"\u001b[0m\u001b[0;34m:\u001b[0m\u001b[0;34m\u001b[0m\u001b[0;34m\u001b[0m\u001b[0m\n\u001b[0;32m-> 1020\u001b[0;31m                 \u001b[0mvalues\u001b[0m\u001b[0;34m[\u001b[0m\u001b[0mkey\u001b[0m\u001b[0;34m]\u001b[0m \u001b[0;34m=\u001b[0m \u001b[0mvalue\u001b[0m\u001b[0;34m\u001b[0m\u001b[0;34m\u001b[0m\u001b[0m\n\u001b[0m\u001b[1;32m   1021\u001b[0m             \u001b[0;32melif\u001b[0m \u001b[0mkey\u001b[0m \u001b[0;32mis\u001b[0m \u001b[0mEllipsis\u001b[0m\u001b[0;34m:\u001b[0m\u001b[0;34m\u001b[0m\u001b[0;34m\u001b[0m\u001b[0m\n\u001b[1;32m   1022\u001b[0m                 \u001b[0mself\u001b[0m\u001b[0;34m[\u001b[0m\u001b[0;34m:\u001b[0m\u001b[0;34m]\u001b[0m \u001b[0;34m=\u001b[0m \u001b[0mvalue\u001b[0m\u001b[0;34m\u001b[0m\u001b[0;34m\u001b[0m\u001b[0m\n",
      "\u001b[0;31mIndexError\u001b[0m: index 0 is out of bounds for axis 0 with size 0"
     ]
    }
   ],
   "source": [
    "def add_unirep():\n",
    "        '''adds performance from tape's pretrained models'''\n",
    "        # unirep\n",
    "        df = pd.DataFrame(columns=['models','MODEL','TAPE.stability.S_Corr','TAPE.fluorescence.S_Corr'])\n",
    "        models = ['unirep','resnet','transformer', 'one-hot']\n",
    "            \n",
    "        df['models'] = models\n",
    "        df['MODEL']=models\n",
    "#         df['TAPE.stability.S_Corr'][0]=0.73\n",
    "#         df['TAPE.fluorescence.S_Corr'][0]=0.67\n",
    "#         print(df)\n",
    "#         df.index = df['models']\n",
    "# #         resnet\n",
    "#         model = 'resnet'\n",
    "#         df[model]['models']='unirep'\n",
    "# #         df[model]['MODEL']='unirep'\n",
    "#         df[model]['TAPE.stability.S_Corr']=0.73\n",
    "#         df[model]['TAPE.fluorescence.S_Corr']=0.67\n",
    "        return df\n",
    "        \n",
    "# tasks = ['TAPE.stability.S_Corr','TAPE.fluorescence.S_Corr'] + ['models']#,'MODEL']\n",
    "# df_input = df[tasks]\n",
    "# df_output = add_unirep()\n",
    "# print('input',df_input)\n",
    "# print('output',df_output)\n",
    "\n",
    "# # df_input.append(df_output)\n",
    "df = add_unirep()\n",
    "df"
   ]
  },
  {
   "cell_type": "code",
   "execution_count": 33,
   "metadata": {},
   "outputs": [
    {
     "name": "stdout",
     "output_type": "stream",
     "text": [
      "['DECODER.acc', 'DECODER.pad_acc', 'TAPE.stability.MSE', 'TAPE.stability.MAE', 'TAPE.stability.S_Corr', 'TAPE.fluorescence.MSE', 'TAPE.fluorescence.MAE', 'TAPE.fluorescence.S_Corr', 'DMS.protein_g.MSE', 'DMS.protein_g.P_corr', 'DMS.1D5R.MSE', 'DMS.1D5R.P_corr', 'DMS.2H11.MSE', 'DMS.2H11.P_corr', 'MODEL_PARAMS.latent_size', 'MODEL_PARAMS.layers', 'MODEL_PARAMS.fully_con', 'MODEL_PARAMS.compression_seq', 'MODEL_PARAMS.channels', 'MODEL_PARAMS.ks_conv', 'MODEL_PARAMS.str_conv', 'MODEL_PARAMS.pad_conv', 'MODEL_PARAMS.ks_pool', 'MODEL_PARAMS.str_pool', 'MODEL_PARAMS.pad_pool', 'PATHS.tape_dir', 'PATHS.log_file', 'PATHS.DMS_dir', 'PLOTS.stability', 'PLOTS.fluorescence', 'PLOTS.protein_g', 'PLOTS.1D5R', 'PLOTS.2H11', 'NOTES', 'DATE_LAST_ADDED']\n"
     ]
    },
    {
     "data": {
      "text/html": [
       "<div>\n",
       "<style scoped>\n",
       "    .dataframe tbody tr th:only-of-type {\n",
       "        vertical-align: middle;\n",
       "    }\n",
       "\n",
       "    .dataframe tbody tr th {\n",
       "        vertical-align: top;\n",
       "    }\n",
       "\n",
       "    .dataframe thead th {\n",
       "        text-align: right;\n",
       "    }\n",
       "</style>\n",
       "<table border=\"1\" class=\"dataframe\">\n",
       "  <thead>\n",
       "    <tr style=\"text-align: right;\">\n",
       "      <th></th>\n",
       "      <th>DECODER.acc</th>\n",
       "      <th>DECODER.pad_acc</th>\n",
       "      <th>TAPE.stability.MSE</th>\n",
       "      <th>TAPE.stability.MAE</th>\n",
       "      <th>TAPE.stability.S_Corr</th>\n",
       "      <th>TAPE.fluorescence.MSE</th>\n",
       "      <th>TAPE.fluorescence.MAE</th>\n",
       "      <th>TAPE.fluorescence.S_Corr</th>\n",
       "      <th>DMS.protein_g.MSE</th>\n",
       "      <th>DMS.protein_g.P_corr</th>\n",
       "      <th>...</th>\n",
       "      <th>PATHS.tape_dir</th>\n",
       "      <th>PATHS.log_file</th>\n",
       "      <th>PATHS.DMS_dir</th>\n",
       "      <th>PLOTS.stability</th>\n",
       "      <th>PLOTS.fluorescence</th>\n",
       "      <th>PLOTS.protein_g</th>\n",
       "      <th>PLOTS.1D5R</th>\n",
       "      <th>PLOTS.2H11</th>\n",
       "      <th>NOTES</th>\n",
       "      <th>DATE_LAST_ADDED</th>\n",
       "    </tr>\n",
       "  </thead>\n",
       "  <tbody>\n",
       "    <tr>\n",
       "      <th>0</th>\n",
       "      <td>0.465288</td>\n",
       "      <td>0.999938</td>\n",
       "      <td>0.693</td>\n",
       "      <td>0.743</td>\n",
       "      <td>0.354</td>\n",
       "      <td>1.266</td>\n",
       "      <td>0.890</td>\n",
       "      <td>0.523</td>\n",
       "      <td>1.742</td>\n",
       "      <td>0.47</td>\n",
       "      <td>...</td>\n",
       "      <td>/home/trz846/representation_learning/models/cn...</td>\n",
       "      <td>/home/trz846/representation_learning/models/cn...</td>\n",
       "      <td>/home/trz846/representation_learning/models/cn...</td>\n",
       "      <td>/home/trz846/representation_learning/models/cn...</td>\n",
       "      <td>/home/trz846/representation_learning/models/cn...</td>\n",
       "      <td>/home/trz846/representation_learning/models/cn...</td>\n",
       "      <td>/home/trz846/representation_learning/models/cn...</td>\n",
       "      <td>/home/trz846/representation_learning/models/cn...</td>\n",
       "      <td>Additional notes\\n</td>\n",
       "      <td>2020-02-15</td>\n",
       "    </tr>\n",
       "    <tr>\n",
       "      <th>1</th>\n",
       "      <td>0.427470</td>\n",
       "      <td>0.998990</td>\n",
       "      <td>0.686</td>\n",
       "      <td>0.734</td>\n",
       "      <td>0.199</td>\n",
       "      <td>1.512</td>\n",
       "      <td>1.019</td>\n",
       "      <td>0.397</td>\n",
       "      <td>1.904</td>\n",
       "      <td>0.43</td>\n",
       "      <td>...</td>\n",
       "      <td>/home/trz846/representation_learning/models/cn...</td>\n",
       "      <td>/home/trz846/representation_learning/models/cn...</td>\n",
       "      <td>/home/trz846/representation_learning/models/cn...</td>\n",
       "      <td>/home/trz846/representation_learning/models/cn...</td>\n",
       "      <td>/home/trz846/representation_learning/models/cn...</td>\n",
       "      <td>/home/trz846/representation_learning/models/cn...</td>\n",
       "      <td>/home/trz846/representation_learning/models/cn...</td>\n",
       "      <td>/home/trz846/representation_learning/models/cn...</td>\n",
       "      <td>Additional notes\\n</td>\n",
       "      <td>2020-02-15</td>\n",
       "    </tr>\n",
       "    <tr>\n",
       "      <th>2</th>\n",
       "      <td>0.540765</td>\n",
       "      <td>0.997717</td>\n",
       "      <td>0.660</td>\n",
       "      <td>0.714</td>\n",
       "      <td>0.239</td>\n",
       "      <td>0.890</td>\n",
       "      <td>0.715</td>\n",
       "      <td>0.588</td>\n",
       "      <td>1.440</td>\n",
       "      <td>0.64</td>\n",
       "      <td>...</td>\n",
       "      <td>/home/trz846/representation_learning/models/cn...</td>\n",
       "      <td>/home/trz846/representation_learning/models/cn...</td>\n",
       "      <td>/home/trz846/representation_learning/models/cn...</td>\n",
       "      <td>/home/trz846/representation_learning/models/cn...</td>\n",
       "      <td>/home/trz846/representation_learning/models/cn...</td>\n",
       "      <td>/home/trz846/representation_learning/models/cn...</td>\n",
       "      <td>/home/trz846/representation_learning/models/cn...</td>\n",
       "      <td>/home/trz846/representation_learning/models/cn...</td>\n",
       "      <td>Additional notes\\n</td>\n",
       "      <td>2020-02-15</td>\n",
       "    </tr>\n",
       "    <tr>\n",
       "      <th>3</th>\n",
       "      <td>0.821243</td>\n",
       "      <td>0.999966</td>\n",
       "      <td>0.480</td>\n",
       "      <td>0.607</td>\n",
       "      <td>0.569</td>\n",
       "      <td>0.758</td>\n",
       "      <td>0.669</td>\n",
       "      <td>0.628</td>\n",
       "      <td>1.392</td>\n",
       "      <td>0.65</td>\n",
       "      <td>...</td>\n",
       "      <td>/home/trz846/representation_learning/models/cn...</td>\n",
       "      <td>/home/trz846/representation_learning/models/cn...</td>\n",
       "      <td>/home/trz846/representation_learning/models/cn...</td>\n",
       "      <td>/home/trz846/representation_learning/models/cn...</td>\n",
       "      <td>/home/trz846/representation_learning/models/cn...</td>\n",
       "      <td>/home/trz846/representation_learning/models/cn...</td>\n",
       "      <td>/home/trz846/representation_learning/models/cn...</td>\n",
       "      <td>/home/trz846/representation_learning/models/cn...</td>\n",
       "      <td>Additional notes\\n</td>\n",
       "      <td>2020-02-15</td>\n",
       "    </tr>\n",
       "    <tr>\n",
       "      <th>4</th>\n",
       "      <td>0.692197</td>\n",
       "      <td>0.999869</td>\n",
       "      <td>0.263</td>\n",
       "      <td>0.432</td>\n",
       "      <td>0.530</td>\n",
       "      <td>0.893</td>\n",
       "      <td>0.726</td>\n",
       "      <td>0.600</td>\n",
       "      <td>NaN</td>\n",
       "      <td>NaN</td>\n",
       "      <td>...</td>\n",
       "      <td>/home/trz846/representation_learning/models/cn...</td>\n",
       "      <td>/home/trz846/representation_learning/models/cn...</td>\n",
       "      <td>NaN</td>\n",
       "      <td>/home/trz846/representation_learning/models/cn...</td>\n",
       "      <td>/home/trz846/representation_learning/models/cn...</td>\n",
       "      <td>NaN</td>\n",
       "      <td>NaN</td>\n",
       "      <td>NaN</td>\n",
       "      <td>Additional notes\\n</td>\n",
       "      <td>2020-02-15</td>\n",
       "    </tr>\n",
       "    <tr>\n",
       "      <th>5</th>\n",
       "      <td>0.702360</td>\n",
       "      <td>0.998703</td>\n",
       "      <td>0.400</td>\n",
       "      <td>0.546</td>\n",
       "      <td>0.505</td>\n",
       "      <td>0.737</td>\n",
       "      <td>0.653</td>\n",
       "      <td>0.626</td>\n",
       "      <td>1.464</td>\n",
       "      <td>0.59</td>\n",
       "      <td>...</td>\n",
       "      <td>/home/trz846/representation_learning/models/cn...</td>\n",
       "      <td>/home/trz846/representation_learning/models/cn...</td>\n",
       "      <td>/home/trz846/representation_learning/models/cn...</td>\n",
       "      <td>/home/trz846/representation_learning/models/cn...</td>\n",
       "      <td>/home/trz846/representation_learning/models/cn...</td>\n",
       "      <td>/home/trz846/representation_learning/models/cn...</td>\n",
       "      <td>/home/trz846/representation_learning/models/cn...</td>\n",
       "      <td>/home/trz846/representation_learning/models/cn...</td>\n",
       "      <td>Additional notes\\n</td>\n",
       "      <td>2020-02-16</td>\n",
       "    </tr>\n",
       "    <tr>\n",
       "      <th>6</th>\n",
       "      <td>0.661744</td>\n",
       "      <td>0.998609</td>\n",
       "      <td>0.527</td>\n",
       "      <td>0.646</td>\n",
       "      <td>0.555</td>\n",
       "      <td>1.523</td>\n",
       "      <td>0.987</td>\n",
       "      <td>0.532</td>\n",
       "      <td>1.904</td>\n",
       "      <td>0.49</td>\n",
       "      <td>...</td>\n",
       "      <td>/home/trz846/representation_learning/models/cn...</td>\n",
       "      <td>/home/trz846/representation_learning/models/cn...</td>\n",
       "      <td>/home/trz846/representation_learning/models/cn...</td>\n",
       "      <td>/home/trz846/representation_learning/models/cn...</td>\n",
       "      <td>/home/trz846/representation_learning/models/cn...</td>\n",
       "      <td>/home/trz846/representation_learning/models/cn...</td>\n",
       "      <td>/home/trz846/representation_learning/models/cn...</td>\n",
       "      <td>/home/trz846/representation_learning/models/cn...</td>\n",
       "      <td>Additional notes\\n</td>\n",
       "      <td>2020-02-15</td>\n",
       "    </tr>\n",
       "    <tr>\n",
       "      <th>7</th>\n",
       "      <td>0.486639</td>\n",
       "      <td>0.999979</td>\n",
       "      <td>0.580</td>\n",
       "      <td>0.656</td>\n",
       "      <td>0.309</td>\n",
       "      <td>1.439</td>\n",
       "      <td>0.959</td>\n",
       "      <td>0.468</td>\n",
       "      <td>1.392</td>\n",
       "      <td>0.59</td>\n",
       "      <td>...</td>\n",
       "      <td>/home/trz846/representation_learning/models/cn...</td>\n",
       "      <td>/home/trz846/representation_learning/models/cn...</td>\n",
       "      <td>/home/trz846/representation_learning/models/cn...</td>\n",
       "      <td>/home/trz846/representation_learning/models/cn...</td>\n",
       "      <td>/home/trz846/representation_learning/models/cn...</td>\n",
       "      <td>/home/trz846/representation_learning/models/cn...</td>\n",
       "      <td>/home/trz846/representation_learning/models/cn...</td>\n",
       "      <td>/home/trz846/representation_learning/models/cn...</td>\n",
       "      <td>Additional notes\\n</td>\n",
       "      <td>2020-02-15</td>\n",
       "    </tr>\n",
       "    <tr>\n",
       "      <th>8</th>\n",
       "      <td>NaN</td>\n",
       "      <td>NaN</td>\n",
       "      <td>0.377</td>\n",
       "      <td>0.502</td>\n",
       "      <td>0.403</td>\n",
       "      <td>1.294</td>\n",
       "      <td>0.956</td>\n",
       "      <td>0.386</td>\n",
       "      <td>NaN</td>\n",
       "      <td>NaN</td>\n",
       "      <td>...</td>\n",
       "      <td>/home/trz846/representation_learning/models/cn...</td>\n",
       "      <td>/home/trz846/representation_learning/models/cn...</td>\n",
       "      <td>NaN</td>\n",
       "      <td>/home/trz846/representation_learning/models/cn...</td>\n",
       "      <td>/home/trz846/representation_learning/models/cn...</td>\n",
       "      <td>NaN</td>\n",
       "      <td>NaN</td>\n",
       "      <td>NaN</td>\n",
       "      <td>Additional notes\\n</td>\n",
       "      <td>2020-02-16</td>\n",
       "    </tr>\n",
       "    <tr>\n",
       "      <th>9</th>\n",
       "      <td>0.499083</td>\n",
       "      <td>0.999988</td>\n",
       "      <td>0.417</td>\n",
       "      <td>0.569</td>\n",
       "      <td>0.621</td>\n",
       "      <td>1.375</td>\n",
       "      <td>0.940</td>\n",
       "      <td>0.452</td>\n",
       "      <td>1.488</td>\n",
       "      <td>0.65</td>\n",
       "      <td>...</td>\n",
       "      <td>/home/trz846/representation_learning/models/cn...</td>\n",
       "      <td>/home/trz846/representation_learning/models/cn...</td>\n",
       "      <td>/home/trz846/representation_learning/models/cn...</td>\n",
       "      <td>/home/trz846/representation_learning/models/cn...</td>\n",
       "      <td>/home/trz846/representation_learning/models/cn...</td>\n",
       "      <td>/home/trz846/representation_learning/models/cn...</td>\n",
       "      <td>/home/trz846/representation_learning/models/cn...</td>\n",
       "      <td>/home/trz846/representation_learning/models/cn...</td>\n",
       "      <td>Additional notes\\n</td>\n",
       "      <td>2020-02-16</td>\n",
       "    </tr>\n",
       "    <tr>\n",
       "      <th>10</th>\n",
       "      <td>0.630036</td>\n",
       "      <td>0.999997</td>\n",
       "      <td>0.369</td>\n",
       "      <td>0.500</td>\n",
       "      <td>0.341</td>\n",
       "      <td>1.480</td>\n",
       "      <td>0.966</td>\n",
       "      <td>0.495</td>\n",
       "      <td>1.369</td>\n",
       "      <td>0.67</td>\n",
       "      <td>...</td>\n",
       "      <td>/home/trz846/representation_learning/models/cn...</td>\n",
       "      <td>/home/trz846/representation_learning/models/cn...</td>\n",
       "      <td>/home/trz846/representation_learning/models/cn...</td>\n",
       "      <td>/home/trz846/representation_learning/models/cn...</td>\n",
       "      <td>/home/trz846/representation_learning/models/cn...</td>\n",
       "      <td>/home/trz846/representation_learning/models/cn...</td>\n",
       "      <td>/home/trz846/representation_learning/models/cn...</td>\n",
       "      <td>/home/trz846/representation_learning/models/cn...</td>\n",
       "      <td>Additional notes\\n</td>\n",
       "      <td>2020-02-16</td>\n",
       "    </tr>\n",
       "    <tr>\n",
       "      <th>11</th>\n",
       "      <td>NaN</td>\n",
       "      <td>NaN</td>\n",
       "      <td>0.304</td>\n",
       "      <td>0.442</td>\n",
       "      <td>0.498</td>\n",
       "      <td>0.658</td>\n",
       "      <td>0.612</td>\n",
       "      <td>0.622</td>\n",
       "      <td>NaN</td>\n",
       "      <td>NaN</td>\n",
       "      <td>...</td>\n",
       "      <td>/home/trz846/representation_learning/models/cn...</td>\n",
       "      <td>/home/trz846/representation_learning/models/cn...</td>\n",
       "      <td>NaN</td>\n",
       "      <td>/home/trz846/representation_learning/models/cn...</td>\n",
       "      <td>/home/trz846/representation_learning/models/cn...</td>\n",
       "      <td>NaN</td>\n",
       "      <td>NaN</td>\n",
       "      <td>NaN</td>\n",
       "      <td>Additional notes\\n</td>\n",
       "      <td>2020-02-15</td>\n",
       "    </tr>\n",
       "    <tr>\n",
       "      <th>12</th>\n",
       "      <td>NaN</td>\n",
       "      <td>NaN</td>\n",
       "      <td>0.381</td>\n",
       "      <td>0.516</td>\n",
       "      <td>0.402</td>\n",
       "      <td>1.059</td>\n",
       "      <td>0.785</td>\n",
       "      <td>0.540</td>\n",
       "      <td>NaN</td>\n",
       "      <td>NaN</td>\n",
       "      <td>...</td>\n",
       "      <td>/home/trz846/representation_learning/models/cn...</td>\n",
       "      <td>/home/trz846/representation_learning/models/cn...</td>\n",
       "      <td>NaN</td>\n",
       "      <td>/home/trz846/representation_learning/models/cn...</td>\n",
       "      <td>/home/trz846/representation_learning/models/cn...</td>\n",
       "      <td>NaN</td>\n",
       "      <td>NaN</td>\n",
       "      <td>NaN</td>\n",
       "      <td>Additional notes\\n</td>\n",
       "      <td>2020-02-16</td>\n",
       "    </tr>\n",
       "    <tr>\n",
       "      <th>13</th>\n",
       "      <td>NaN</td>\n",
       "      <td>NaN</td>\n",
       "      <td>NaN</td>\n",
       "      <td>NaN</td>\n",
       "      <td>NaN</td>\n",
       "      <td>1.067</td>\n",
       "      <td>0.788</td>\n",
       "      <td>0.579</td>\n",
       "      <td>NaN</td>\n",
       "      <td>NaN</td>\n",
       "      <td>...</td>\n",
       "      <td>/home/trz846/representation_learning/models/cn...</td>\n",
       "      <td>/home/trz846/representation_learning/models/cn...</td>\n",
       "      <td>NaN</td>\n",
       "      <td>NaN</td>\n",
       "      <td>/home/trz846/representation_learning/models/cn...</td>\n",
       "      <td>NaN</td>\n",
       "      <td>NaN</td>\n",
       "      <td>NaN</td>\n",
       "      <td>Additional notes\\n</td>\n",
       "      <td>2020-02-16</td>\n",
       "    </tr>\n",
       "    <tr>\n",
       "      <th>14</th>\n",
       "      <td>NaN</td>\n",
       "      <td>NaN</td>\n",
       "      <td>NaN</td>\n",
       "      <td>NaN</td>\n",
       "      <td>NaN</td>\n",
       "      <td>0.723</td>\n",
       "      <td>0.639</td>\n",
       "      <td>0.615</td>\n",
       "      <td>NaN</td>\n",
       "      <td>NaN</td>\n",
       "      <td>...</td>\n",
       "      <td>/home/trz846/representation_learning/models/cn...</td>\n",
       "      <td>/home/trz846/representation_learning/models/cn...</td>\n",
       "      <td>NaN</td>\n",
       "      <td>NaN</td>\n",
       "      <td>/home/trz846/representation_learning/models/cn...</td>\n",
       "      <td>NaN</td>\n",
       "      <td>NaN</td>\n",
       "      <td>NaN</td>\n",
       "      <td>Additional notes\\n</td>\n",
       "      <td>2020-02-16</td>\n",
       "    </tr>\n",
       "    <tr>\n",
       "      <th>15</th>\n",
       "      <td>0.460354</td>\n",
       "      <td>0.999979</td>\n",
       "      <td>NaN</td>\n",
       "      <td>NaN</td>\n",
       "      <td>NaN</td>\n",
       "      <td>1.715</td>\n",
       "      <td>1.067</td>\n",
       "      <td>0.423</td>\n",
       "      <td>NaN</td>\n",
       "      <td>NaN</td>\n",
       "      <td>...</td>\n",
       "      <td>/home/trz846/representation_learning/models/cn...</td>\n",
       "      <td>/home/trz846/representation_learning/models/cn...</td>\n",
       "      <td>NaN</td>\n",
       "      <td>NaN</td>\n",
       "      <td>/home/trz846/representation_learning/models/cn...</td>\n",
       "      <td>NaN</td>\n",
       "      <td>NaN</td>\n",
       "      <td>NaN</td>\n",
       "      <td>Additional notes\\n</td>\n",
       "      <td>2020-02-16</td>\n",
       "    </tr>\n",
       "  </tbody>\n",
       "</table>\n",
       "<p>16 rows × 35 columns</p>\n",
       "</div>"
      ],
      "text/plain": [
       "    DECODER.acc  DECODER.pad_acc  TAPE.stability.MSE  TAPE.stability.MAE  \\\n",
       "0      0.465288         0.999938               0.693               0.743   \n",
       "1      0.427470         0.998990               0.686               0.734   \n",
       "2      0.540765         0.997717               0.660               0.714   \n",
       "3      0.821243         0.999966               0.480               0.607   \n",
       "4      0.692197         0.999869               0.263               0.432   \n",
       "5      0.702360         0.998703               0.400               0.546   \n",
       "6      0.661744         0.998609               0.527               0.646   \n",
       "7      0.486639         0.999979               0.580               0.656   \n",
       "8           NaN              NaN               0.377               0.502   \n",
       "9      0.499083         0.999988               0.417               0.569   \n",
       "10     0.630036         0.999997               0.369               0.500   \n",
       "11          NaN              NaN               0.304               0.442   \n",
       "12          NaN              NaN               0.381               0.516   \n",
       "13          NaN              NaN                 NaN                 NaN   \n",
       "14          NaN              NaN                 NaN                 NaN   \n",
       "15     0.460354         0.999979                 NaN                 NaN   \n",
       "\n",
       "    TAPE.stability.S_Corr  TAPE.fluorescence.MSE  TAPE.fluorescence.MAE  \\\n",
       "0                   0.354                  1.266                  0.890   \n",
       "1                   0.199                  1.512                  1.019   \n",
       "2                   0.239                  0.890                  0.715   \n",
       "3                   0.569                  0.758                  0.669   \n",
       "4                   0.530                  0.893                  0.726   \n",
       "5                   0.505                  0.737                  0.653   \n",
       "6                   0.555                  1.523                  0.987   \n",
       "7                   0.309                  1.439                  0.959   \n",
       "8                   0.403                  1.294                  0.956   \n",
       "9                   0.621                  1.375                  0.940   \n",
       "10                  0.341                  1.480                  0.966   \n",
       "11                  0.498                  0.658                  0.612   \n",
       "12                  0.402                  1.059                  0.785   \n",
       "13                    NaN                  1.067                  0.788   \n",
       "14                    NaN                  0.723                  0.639   \n",
       "15                    NaN                  1.715                  1.067   \n",
       "\n",
       "    TAPE.fluorescence.S_Corr  DMS.protein_g.MSE  DMS.protein_g.P_corr  ...  \\\n",
       "0                      0.523              1.742                  0.47  ...   \n",
       "1                      0.397              1.904                  0.43  ...   \n",
       "2                      0.588              1.440                  0.64  ...   \n",
       "3                      0.628              1.392                  0.65  ...   \n",
       "4                      0.600                NaN                   NaN  ...   \n",
       "5                      0.626              1.464                  0.59  ...   \n",
       "6                      0.532              1.904                  0.49  ...   \n",
       "7                      0.468              1.392                  0.59  ...   \n",
       "8                      0.386                NaN                   NaN  ...   \n",
       "9                      0.452              1.488                  0.65  ...   \n",
       "10                     0.495              1.369                  0.67  ...   \n",
       "11                     0.622                NaN                   NaN  ...   \n",
       "12                     0.540                NaN                   NaN  ...   \n",
       "13                     0.579                NaN                   NaN  ...   \n",
       "14                     0.615                NaN                   NaN  ...   \n",
       "15                     0.423                NaN                   NaN  ...   \n",
       "\n",
       "                                       PATHS.tape_dir  \\\n",
       "0   /home/trz846/representation_learning/models/cn...   \n",
       "1   /home/trz846/representation_learning/models/cn...   \n",
       "2   /home/trz846/representation_learning/models/cn...   \n",
       "3   /home/trz846/representation_learning/models/cn...   \n",
       "4   /home/trz846/representation_learning/models/cn...   \n",
       "5   /home/trz846/representation_learning/models/cn...   \n",
       "6   /home/trz846/representation_learning/models/cn...   \n",
       "7   /home/trz846/representation_learning/models/cn...   \n",
       "8   /home/trz846/representation_learning/models/cn...   \n",
       "9   /home/trz846/representation_learning/models/cn...   \n",
       "10  /home/trz846/representation_learning/models/cn...   \n",
       "11  /home/trz846/representation_learning/models/cn...   \n",
       "12  /home/trz846/representation_learning/models/cn...   \n",
       "13  /home/trz846/representation_learning/models/cn...   \n",
       "14  /home/trz846/representation_learning/models/cn...   \n",
       "15  /home/trz846/representation_learning/models/cn...   \n",
       "\n",
       "                                       PATHS.log_file  \\\n",
       "0   /home/trz846/representation_learning/models/cn...   \n",
       "1   /home/trz846/representation_learning/models/cn...   \n",
       "2   /home/trz846/representation_learning/models/cn...   \n",
       "3   /home/trz846/representation_learning/models/cn...   \n",
       "4   /home/trz846/representation_learning/models/cn...   \n",
       "5   /home/trz846/representation_learning/models/cn...   \n",
       "6   /home/trz846/representation_learning/models/cn...   \n",
       "7   /home/trz846/representation_learning/models/cn...   \n",
       "8   /home/trz846/representation_learning/models/cn...   \n",
       "9   /home/trz846/representation_learning/models/cn...   \n",
       "10  /home/trz846/representation_learning/models/cn...   \n",
       "11  /home/trz846/representation_learning/models/cn...   \n",
       "12  /home/trz846/representation_learning/models/cn...   \n",
       "13  /home/trz846/representation_learning/models/cn...   \n",
       "14  /home/trz846/representation_learning/models/cn...   \n",
       "15  /home/trz846/representation_learning/models/cn...   \n",
       "\n",
       "                                        PATHS.DMS_dir  \\\n",
       "0   /home/trz846/representation_learning/models/cn...   \n",
       "1   /home/trz846/representation_learning/models/cn...   \n",
       "2   /home/trz846/representation_learning/models/cn...   \n",
       "3   /home/trz846/representation_learning/models/cn...   \n",
       "4                                                 NaN   \n",
       "5   /home/trz846/representation_learning/models/cn...   \n",
       "6   /home/trz846/representation_learning/models/cn...   \n",
       "7   /home/trz846/representation_learning/models/cn...   \n",
       "8                                                 NaN   \n",
       "9   /home/trz846/representation_learning/models/cn...   \n",
       "10  /home/trz846/representation_learning/models/cn...   \n",
       "11                                                NaN   \n",
       "12                                                NaN   \n",
       "13                                                NaN   \n",
       "14                                                NaN   \n",
       "15                                                NaN   \n",
       "\n",
       "                                      PLOTS.stability  \\\n",
       "0   /home/trz846/representation_learning/models/cn...   \n",
       "1   /home/trz846/representation_learning/models/cn...   \n",
       "2   /home/trz846/representation_learning/models/cn...   \n",
       "3   /home/trz846/representation_learning/models/cn...   \n",
       "4   /home/trz846/representation_learning/models/cn...   \n",
       "5   /home/trz846/representation_learning/models/cn...   \n",
       "6   /home/trz846/representation_learning/models/cn...   \n",
       "7   /home/trz846/representation_learning/models/cn...   \n",
       "8   /home/trz846/representation_learning/models/cn...   \n",
       "9   /home/trz846/representation_learning/models/cn...   \n",
       "10  /home/trz846/representation_learning/models/cn...   \n",
       "11  /home/trz846/representation_learning/models/cn...   \n",
       "12  /home/trz846/representation_learning/models/cn...   \n",
       "13                                                NaN   \n",
       "14                                                NaN   \n",
       "15                                                NaN   \n",
       "\n",
       "                                   PLOTS.fluorescence  \\\n",
       "0   /home/trz846/representation_learning/models/cn...   \n",
       "1   /home/trz846/representation_learning/models/cn...   \n",
       "2   /home/trz846/representation_learning/models/cn...   \n",
       "3   /home/trz846/representation_learning/models/cn...   \n",
       "4   /home/trz846/representation_learning/models/cn...   \n",
       "5   /home/trz846/representation_learning/models/cn...   \n",
       "6   /home/trz846/representation_learning/models/cn...   \n",
       "7   /home/trz846/representation_learning/models/cn...   \n",
       "8   /home/trz846/representation_learning/models/cn...   \n",
       "9   /home/trz846/representation_learning/models/cn...   \n",
       "10  /home/trz846/representation_learning/models/cn...   \n",
       "11  /home/trz846/representation_learning/models/cn...   \n",
       "12  /home/trz846/representation_learning/models/cn...   \n",
       "13  /home/trz846/representation_learning/models/cn...   \n",
       "14  /home/trz846/representation_learning/models/cn...   \n",
       "15  /home/trz846/representation_learning/models/cn...   \n",
       "\n",
       "                                      PLOTS.protein_g  \\\n",
       "0   /home/trz846/representation_learning/models/cn...   \n",
       "1   /home/trz846/representation_learning/models/cn...   \n",
       "2   /home/trz846/representation_learning/models/cn...   \n",
       "3   /home/trz846/representation_learning/models/cn...   \n",
       "4                                                 NaN   \n",
       "5   /home/trz846/representation_learning/models/cn...   \n",
       "6   /home/trz846/representation_learning/models/cn...   \n",
       "7   /home/trz846/representation_learning/models/cn...   \n",
       "8                                                 NaN   \n",
       "9   /home/trz846/representation_learning/models/cn...   \n",
       "10  /home/trz846/representation_learning/models/cn...   \n",
       "11                                                NaN   \n",
       "12                                                NaN   \n",
       "13                                                NaN   \n",
       "14                                                NaN   \n",
       "15                                                NaN   \n",
       "\n",
       "                                           PLOTS.1D5R  \\\n",
       "0   /home/trz846/representation_learning/models/cn...   \n",
       "1   /home/trz846/representation_learning/models/cn...   \n",
       "2   /home/trz846/representation_learning/models/cn...   \n",
       "3   /home/trz846/representation_learning/models/cn...   \n",
       "4                                                 NaN   \n",
       "5   /home/trz846/representation_learning/models/cn...   \n",
       "6   /home/trz846/representation_learning/models/cn...   \n",
       "7   /home/trz846/representation_learning/models/cn...   \n",
       "8                                                 NaN   \n",
       "9   /home/trz846/representation_learning/models/cn...   \n",
       "10  /home/trz846/representation_learning/models/cn...   \n",
       "11                                                NaN   \n",
       "12                                                NaN   \n",
       "13                                                NaN   \n",
       "14                                                NaN   \n",
       "15                                                NaN   \n",
       "\n",
       "                                           PLOTS.2H11               NOTES  \\\n",
       "0   /home/trz846/representation_learning/models/cn...  Additional notes\\n   \n",
       "1   /home/trz846/representation_learning/models/cn...  Additional notes\\n   \n",
       "2   /home/trz846/representation_learning/models/cn...  Additional notes\\n   \n",
       "3   /home/trz846/representation_learning/models/cn...  Additional notes\\n   \n",
       "4                                                 NaN  Additional notes\\n   \n",
       "5   /home/trz846/representation_learning/models/cn...  Additional notes\\n   \n",
       "6   /home/trz846/representation_learning/models/cn...  Additional notes\\n   \n",
       "7   /home/trz846/representation_learning/models/cn...  Additional notes\\n   \n",
       "8                                                 NaN  Additional notes\\n   \n",
       "9   /home/trz846/representation_learning/models/cn...  Additional notes\\n   \n",
       "10  /home/trz846/representation_learning/models/cn...  Additional notes\\n   \n",
       "11                                                NaN  Additional notes\\n   \n",
       "12                                                NaN  Additional notes\\n   \n",
       "13                                                NaN  Additional notes\\n   \n",
       "14                                                NaN  Additional notes\\n   \n",
       "15                                                NaN  Additional notes\\n   \n",
       "\n",
       "    DATE_LAST_ADDED  \n",
       "0        2020-02-15  \n",
       "1        2020-02-15  \n",
       "2        2020-02-15  \n",
       "3        2020-02-15  \n",
       "4        2020-02-15  \n",
       "5        2020-02-16  \n",
       "6        2020-02-15  \n",
       "7        2020-02-15  \n",
       "8        2020-02-16  \n",
       "9        2020-02-16  \n",
       "10       2020-02-16  \n",
       "11       2020-02-15  \n",
       "12       2020-02-16  \n",
       "13       2020-02-16  \n",
       "14       2020-02-16  \n",
       "15       2020-02-16  \n",
       "\n",
       "[16 rows x 35 columns]"
      ]
     },
     "execution_count": 33,
     "metadata": {},
     "output_type": "execute_result"
    }
   ],
   "source": [
    "# df_acc=df.pop('DECODER.acc') \n",
    "# df_acc.round(3)\n",
    "# df_pad_acc=df.pop('DECODER.pad_acc') \n",
    "# df_pad_acc.round(3)\n",
    "# df.insert(0,'DECODER.acc', df_acc.round(3), True)\n",
    "# df.insert(1,'DECODER.pad_acc', df_pad_acc.round(3), True)\n",
    "\n",
    "a = [ 'DECODER.acc',\n",
    " 'DECODER.pad_acc',\n",
    " 'TAPE.stability.MSE',\n",
    " 'TAPE.stability.MAE',\n",
    " 'TAPE.stability.S_Corr',\n",
    " 'TAPE.fluorescence.MSE',\n",
    " 'TAPE.fluorescence.MAE',\n",
    " 'TAPE.fluorescence.S_Corr',\n",
    " 'DMS.protein_g.MSE',\n",
    " 'DMS.protein_g.P_corr',\n",
    " 'DMS.1D5R.MSE',\n",
    " 'DMS.1D5R.P_corr',\n",
    " 'DMS.2H11.MSE',\n",
    " 'DMS.2H11.P_corr',\n",
    " 'MODEL_PARAMS.latent_size',\n",
    " 'MODEL_PARAMS.layers',\n",
    " 'MODEL_PARAMS.fully_con',\n",
    " 'MODEL_PARAMS.compression_seq',\n",
    " 'MODEL_PARAMS.channels',\n",
    " 'MODEL_PARAMS.ks_conv',\n",
    " 'MODEL_PARAMS.str_conv',\n",
    " 'MODEL_PARAMS.pad_conv',\n",
    " 'MODEL_PARAMS.ks_pool',\n",
    " 'MODEL_PARAMS.str_pool',\n",
    " 'MODEL_PARAMS.pad_pool',\n",
    " 'PATHS.tape_dir',\n",
    " 'PATHS.log_file',\n",
    " 'PATHS.DMS_dir',\n",
    " 'PLOTS.stability',\n",
    " 'PLOTS.fluorescence',\n",
    " 'PLOTS.protein_g',\n",
    " 'PLOTS.1D5R',\n",
    " 'PLOTS.2H11',\n",
    " 'NOTES',\n",
    " 'DATE_LAST_ADDED'\n",
    "]\n",
    "print(a)\n",
    "df[a]"
   ]
  },
  {
   "cell_type": "code",
   "execution_count": 5,
   "metadata": {},
   "outputs": [
    {
     "name": "stdout",
     "output_type": "stream",
     "text": [
      "['TAPE.stability.MSE', 'TAPE.fluorescence.MSE', 'DMS.protein_g.MSE', 'DMS.2H11.MSE', 'DMS.1D5R.MSE']\n"
     ]
    },
    {
     "data": {
      "text/plain": [
       "<BarContainer object of 6 artists>"
      ]
     },
     "execution_count": 5,
     "metadata": {},
     "output_type": "execute_result"
    },
    {
     "data": {
      "image/png": "[encoded data removed]",
      "text/plain": [
       "<Figure size 432x288 with 1 Axes>"
      ]
     },
     "metadata": {
      "needs_background": "light"
     },
     "output_type": "display_data"
    }
   ],
   "source": [
    "select_metric = 'MSE'\n",
    "tasks = ['TAPE.stability', 'TAPE.fluorescence', 'DMS.protein_g', 'DMS.2H11', 'DMS.1D5R']\n",
    "tasks = [i+f'.{select_metric}' for i in tasks]\n",
    "print(tasks)\n",
    "df[tasks]\n",
    "\n",
    "plt.bar(df['models'],df['TAPE.fluorescence.MSE'])\n",
    "\n"
   ]
  },
  {
   "cell_type": "code",
   "execution_count": 8,
   "metadata": {},
   "outputs": [],
   "source": [
    "import plotly.express as px\n"
   ]
  },
  {
   "cell_type": "code",
   "execution_count": 9,
   "metadata": {},
   "outputs": [
    {
     "name": "stdout",
     "output_type": "stream",
     "text": [
      "['TAPE.stability.MSE', 'TAPE.fluorescence.MSE', 'DMS.protein_g.MSE', 'DMS.2H11.MSE', 'DMS.1D5R.MSE']\n"
     ]
    },
    {
     "data": {
      "image/png": "[encoded data removed]",
      "text/plain": [
       "<Figure size 432x288 with 1 Axes>"
      ]
     },
     "metadata": {
      "needs_background": "light"
     },
     "output_type": "display_data"
    }
   ],
   "source": [
    "select_metric = 'MSE'\n",
    "tasks = ['TAPE.stability', 'TAPE.fluorescence', 'DMS.protein_g', 'DMS.2H11', 'DMS.1D5R']\n",
    "tasks = [i+f'.{select_metric}' for i in tasks]\n",
    "print(tasks)\n",
    "for task in tasks:\n",
    "    # add metric selected in radio button\n",
    "#         task = task + f'.{select_metric}'\n",
    "    plt.bar(df['models'],df['TAPE.fluorescence.MSE'])\n"
   ]
  },
  {
   "cell_type": "code",
   "execution_count": 8,
   "metadata": {},
   "outputs": [
    {
     "ename": "NameError",
     "evalue": "name 'px' is not defined",
     "output_type": "error",
     "traceback": [
      "\u001b[0;31m---------------------------------------------------------------------------\u001b[0m",
      "\u001b[0;31mNameError\u001b[0m                                 Traceback (most recent call last)",
      "\u001b[0;32m<ipython-input-8-b1719990456d>\u001b[0m in \u001b[0;36m<module>\u001b[0;34m\u001b[0m\n\u001b[0;32m----> 1\u001b[0;31m \u001b[0mfig\u001b[0m \u001b[0;34m=\u001b[0m \u001b[0mpx\u001b[0m\u001b[0;34m.\u001b[0m\u001b[0mbar\u001b[0m\u001b[0;34m(\u001b[0m\u001b[0mdf\u001b[0m\u001b[0;34m,\u001b[0m \u001b[0mx\u001b[0m\u001b[0;34m=\u001b[0m\u001b[0;34m\"models\"\u001b[0m\u001b[0;34m,\u001b[0m \u001b[0my\u001b[0m\u001b[0;34m=\u001b[0m\u001b[0;34m\"TAPE.fluorescence.MSE\"\u001b[0m\u001b[0;34m,\u001b[0m \u001b[0mcolor\u001b[0m\u001b[0;34m=\u001b[0m\u001b[0;34m\"models\"\u001b[0m\u001b[0;34m,\u001b[0m \u001b[0mbarmode\u001b[0m\u001b[0;34m=\u001b[0m\u001b[0;34m\"group\"\u001b[0m\u001b[0;34m)\u001b[0m\u001b[0;34m\u001b[0m\u001b[0;34m\u001b[0m\u001b[0m\n\u001b[0m\u001b[1;32m      2\u001b[0m \u001b[0;31m#              facet_row=\"time\", facet_col=\"day\",\u001b[0m\u001b[0;34m\u001b[0m\u001b[0;34m\u001b[0m\u001b[0;34m\u001b[0m\u001b[0m\n\u001b[1;32m      3\u001b[0m \u001b[0;31m#              category_orders={\"day\": [\"Thur\", \"Fri\", \"Sat\", \"Sun\"],\u001b[0m\u001b[0;34m\u001b[0m\u001b[0;34m\u001b[0m\u001b[0;34m\u001b[0m\u001b[0m\n\u001b[1;32m      4\u001b[0m \u001b[0;31m#                               \"time\": [\"Lunch\", \"Dinner\"]})\u001b[0m\u001b[0;34m\u001b[0m\u001b[0;34m\u001b[0m\u001b[0;34m\u001b[0m\u001b[0m\n\u001b[1;32m      5\u001b[0m \u001b[0mfig\u001b[0m\u001b[0;34m.\u001b[0m\u001b[0mshow\u001b[0m\u001b[0;34m(\u001b[0m\u001b[0;34m)\u001b[0m\u001b[0;34m\u001b[0m\u001b[0;34m\u001b[0m\u001b[0m\n",
      "\u001b[0;31mNameError\u001b[0m: name 'px' is not defined"
     ]
    }
   ],
   "source": [
    "fig = px.bar(df, x=\"models\", y=\"TAPE.fluorescence.MSE\", color=\"models\", barmode=\"group\")\n",
    "#              facet_row=\"time\", facet_col=\"day\",\n",
    "#              category_orders={\"day\": [\"Thur\", \"Fri\", \"Sat\", \"Sun\"],\n",
    "#                               \"time\": [\"Lunch\", \"Dinner\"]})\n",
    "fig.show()"
   ]
  },
  {
   "cell_type": "code",
   "execution_count": 9,
   "metadata": {},
   "outputs": [],
   "source": [
    "import plotly.graph_objects as go\n"
   ]
  },
  {
   "cell_type": "code",
   "execution_count": 13,
   "metadata": {},
   "outputs": [
    {
     "data": {
      "application/vnd.plotly.v1+json": {
       "config": {
        "plotlyServerURL": "https://plot.ly"
       },
       "data": [
        {
         "name": "SF Zoo",
         "type": "bar",
         "x": [
          "giraffes",
          "orangutans",
          "monkeys"
         ],
         "y": [
          20,
          14,
          23
         ]
        },
        {
         "name": "LA Zoo",
         "type": "bar",
         "x": [
          "giraffes",
          "orangutans",
          "monkeys"
         ],
         "y": [
          12,
          18,
          29
         ]
        }
       ],
       "layout": {
        "barmode": "group",
        "template": {
         "data": {
          "bar": [
           {
            "error_x": {
             "color": "#2a3f5f"
            },
            "error_y": {
             "color": "#2a3f5f"
            },
            "marker": {
             "line": {
              "color": "#E5ECF6",
              "width": 0.5
             }
            },
            "type": "bar"
           }
          ],
          "barpolar": [
           {
            "marker": {
             "line": {
              "color": "#E5ECF6",
              "width": 0.5
             }
            },
            "type": "barpolar"
           }
          ],
          "carpet": [
           {
            "aaxis": {
             "endlinecolor": "#2a3f5f",
             "gridcolor": "white",
             "linecolor": "white",
             "minorgridcolor": "white",
             "startlinecolor": "#2a3f5f"
            },
            "baxis": {
             "endlinecolor": "#2a3f5f",
             "gridcolor": "white",
             "linecolor": "white",
             "minorgridcolor": "white",
             "startlinecolor": "#2a3f5f"
            },
            "type": "carpet"
           }
          ],
          "choropleth": [
           {
            "colorbar": {
             "outlinewidth": 0,
             "ticks": ""
            },
            "type": "choropleth"
           }
          ],
          "contour": [
           {
            "colorbar": {
             "outlinewidth": 0,
             "ticks": ""
            },
            "colorscale": [
             [
              0,
              "#0d0887"
             ],
             [
              0.1111111111111111,
              "#46039f"
             ],
             [
              0.2222222222222222,
              "#7201a8"
             ],
             [
              0.3333333333333333,
              "#9c179e"
             ],
             [
              0.4444444444444444,
              "#bd3786"
             ],
             [
              0.5555555555555556,
              "#d8576b"
             ],
             [
              0.6666666666666666,
              "#ed7953"
             ],
             [
              0.7777777777777778,
              "#fb9f3a"
             ],
             [
              0.8888888888888888,
              "#fdca26"
             ],
             [
              1,
              "#f0f921"
             ]
            ],
            "type": "contour"
           }
          ],
          "contourcarpet": [
           {
            "colorbar": {
             "outlinewidth": 0,
             "ticks": ""
            },
            "type": "contourcarpet"
           }
          ],
          "heatmap": [
           {
            "colorbar": {
             "outlinewidth": 0,
             "ticks": ""
            },
            "colorscale": [
             [
              0,
              "#0d0887"
             ],
             [
              0.1111111111111111,
              "#46039f"
             ],
             [
              0.2222222222222222,
              "#7201a8"
             ],
             [
              0.3333333333333333,
              "#9c179e"
             ],
             [
              0.4444444444444444,
              "#bd3786"
             ],
             [
              0.5555555555555556,
              "#d8576b"
             ],
             [
              0.6666666666666666,
              "#ed7953"
             ],
             [
              0.7777777777777778,
              "#fb9f3a"
             ],
             [
              0.8888888888888888,
              "#fdca26"
             ],
             [
              1,
              "#f0f921"
             ]
            ],
            "type": "heatmap"
           }
          ],
          "heatmapgl": [
           {
            "colorbar": {
             "outlinewidth": 0,
             "ticks": ""
            },
            "colorscale": [
             [
              0,
              "#0d0887"
             ],
             [
              0.1111111111111111,
              "#46039f"
             ],
             [
              0.2222222222222222,
              "#7201a8"
             ],
             [
              0.3333333333333333,
              "#9c179e"
             ],
             [
              0.4444444444444444,
              "#bd3786"
             ],
             [
              0.5555555555555556,
              "#d8576b"
             ],
             [
              0.6666666666666666,
              "#ed7953"
             ],
             [
              0.7777777777777778,
              "#fb9f3a"
             ],
             [
              0.8888888888888888,
              "#fdca26"
             ],
             [
              1,
              "#f0f921"
             ]
            ],
            "type": "heatmapgl"
           }
          ],
          "histogram": [
           {
            "marker": {
             "colorbar": {
              "outlinewidth": 0,
              "ticks": ""
             }
            },
            "type": "histogram"
           }
          ],
          "histogram2d": [
           {
            "colorbar": {
             "outlinewidth": 0,
             "ticks": ""
            },
            "colorscale": [
             [
              0,
              "#0d0887"
             ],
             [
              0.1111111111111111,
              "#46039f"
             ],
             [
              0.2222222222222222,
              "#7201a8"
             ],
             [
              0.3333333333333333,
              "#9c179e"
             ],
             [
              0.4444444444444444,
              "#bd3786"
             ],
             [
              0.5555555555555556,
              "#d8576b"
             ],
             [
              0.6666666666666666,
              "#ed7953"
             ],
             [
              0.7777777777777778,
              "#fb9f3a"
             ],
             [
              0.8888888888888888,
              "#fdca26"
             ],
             [
              1,
              "#f0f921"
             ]
            ],
            "type": "histogram2d"
           }
          ],
          "histogram2dcontour": [
           {
            "colorbar": {
             "outlinewidth": 0,
             "ticks": ""
            },
            "colorscale": [
             [
              0,
              "#0d0887"
             ],
             [
              0.1111111111111111,
              "#46039f"
             ],
             [
              0.2222222222222222,
              "#7201a8"
             ],
             [
              0.3333333333333333,
              "#9c179e"
             ],
             [
              0.4444444444444444,
              "#bd3786"
             ],
             [
              0.5555555555555556,
              "#d8576b"
             ],
             [
              0.6666666666666666,
              "#ed7953"
             ],
             [
              0.7777777777777778,
              "#fb9f3a"
             ],
             [
              0.8888888888888888,
              "#fdca26"
             ],
             [
              1,
              "#f0f921"
             ]
            ],
            "type": "histogram2dcontour"
           }
          ],
          "mesh3d": [
           {
            "colorbar": {
             "outlinewidth": 0,
             "ticks": ""
            },
            "type": "mesh3d"
           }
          ],
          "parcoords": [
           {
            "line": {
             "colorbar": {
              "outlinewidth": 0,
              "ticks": ""
             }
            },
            "type": "parcoords"
           }
          ],
          "pie": [
           {
            "automargin": true,
            "type": "pie"
           }
          ],
          "scatter": [
           {
            "marker": {
             "colorbar": {
              "outlinewidth": 0,
              "ticks": ""
             }
            },
            "type": "scatter"
           }
          ],
          "scatter3d": [
           {
            "line": {
             "colorbar": {
              "outlinewidth": 0,
              "ticks": ""
             }
            },
            "marker": {
             "colorbar": {
              "outlinewidth": 0,
              "ticks": ""
             }
            },
            "type": "scatter3d"
           }
          ],
          "scattercarpet": [
           {
            "marker": {
             "colorbar": {
              "outlinewidth": 0,
              "ticks": ""
             }
            },
            "type": "scattercarpet"
           }
          ],
          "scattergeo": [
           {
            "marker": {
             "colorbar": {
              "outlinewidth": 0,
              "ticks": ""
             }
            },
            "type": "scattergeo"
           }
          ],
          "scattergl": [
           {
            "marker": {
             "colorbar": {
              "outlinewidth": 0,
              "ticks": ""
             }
            },
            "type": "scattergl"
           }
          ],
          "scattermapbox": [
           {
            "marker": {
             "colorbar": {
              "outlinewidth": 0,
              "ticks": ""
             }
            },
            "type": "scattermapbox"
           }
          ],
          "scatterpolar": [
           {
            "marker": {
             "colorbar": {
              "outlinewidth": 0,
              "ticks": ""
             }
            },
            "type": "scatterpolar"
           }
          ],
          "scatterpolargl": [
           {
            "marker": {
             "colorbar": {
              "outlinewidth": 0,
              "ticks": ""
             }
            },
            "type": "scatterpolargl"
           }
          ],
          "scatterternary": [
           {
            "marker": {
             "colorbar": {
              "outlinewidth": 0,
              "ticks": ""
             }
            },
            "type": "scatterternary"
           }
          ],
          "surface": [
           {
            "colorbar": {
             "outlinewidth": 0,
             "ticks": ""
            },
            "colorscale": [
             [
              0,
              "#0d0887"
             ],
             [
              0.1111111111111111,
              "#46039f"
             ],
             [
              0.2222222222222222,
              "#7201a8"
             ],
             [
              0.3333333333333333,
              "#9c179e"
             ],
             [
              0.4444444444444444,
              "#bd3786"
             ],
             [
              0.5555555555555556,
              "#d8576b"
             ],
             [
              0.6666666666666666,
              "#ed7953"
             ],
             [
              0.7777777777777778,
              "#fb9f3a"
             ],
             [
              0.8888888888888888,
              "#fdca26"
             ],
             [
              1,
              "#f0f921"
             ]
            ],
            "type": "surface"
           }
          ],
          "table": [
           {
            "cells": {
             "fill": {
              "color": "#EBF0F8"
             },
             "line": {
              "color": "white"
             }
            },
            "header": {
             "fill": {
              "color": "#C8D4E3"
             },
             "line": {
              "color": "white"
             }
            },
            "type": "table"
           }
          ]
         },
         "layout": {
          "annotationdefaults": {
           "arrowcolor": "#2a3f5f",
           "arrowhead": 0,
           "arrowwidth": 1
          },
          "coloraxis": {
           "colorbar": {
            "outlinewidth": 0,
            "ticks": ""
           }
          },
          "colorscale": {
           "diverging": [
            [
             0,
             "#8e0152"
            ],
            [
             0.1,
             "#c51b7d"
            ],
            [
             0.2,
             "#de77ae"
            ],
            [
             0.3,
             "#f1b6da"
            ],
            [
             0.4,
             "#fde0ef"
            ],
            [
             0.5,
             "#f7f7f7"
            ],
            [
             0.6,
             "#e6f5d0"
            ],
            [
             0.7,
             "#b8e186"
            ],
            [
             0.8,
             "#7fbc41"
            ],
            [
             0.9,
             "#4d9221"
            ],
            [
             1,
             "#276419"
            ]
           ],
           "sequential": [
            [
             0,
             "#0d0887"
            ],
            [
             0.1111111111111111,
             "#46039f"
            ],
            [
             0.2222222222222222,
             "#7201a8"
            ],
            [
             0.3333333333333333,
             "#9c179e"
            ],
            [
             0.4444444444444444,
             "#bd3786"
            ],
            [
             0.5555555555555556,
             "#d8576b"
            ],
            [
             0.6666666666666666,
             "#ed7953"
            ],
            [
             0.7777777777777778,
             "#fb9f3a"
            ],
            [
             0.8888888888888888,
             "#fdca26"
            ],
            [
             1,
             "#f0f921"
            ]
           ],
           "sequentialminus": [
            [
             0,
             "#0d0887"
            ],
            [
             0.1111111111111111,
             "#46039f"
            ],
            [
             0.2222222222222222,
             "#7201a8"
            ],
            [
             0.3333333333333333,
             "#9c179e"
            ],
            [
             0.4444444444444444,
             "#bd3786"
            ],
            [
             0.5555555555555556,
             "#d8576b"
            ],
            [
             0.6666666666666666,
             "#ed7953"
            ],
            [
             0.7777777777777778,
             "#fb9f3a"
            ],
            [
             0.8888888888888888,
             "#fdca26"
            ],
            [
             1,
             "#f0f921"
            ]
           ]
          },
          "colorway": [
           "#636efa",
           "#EF553B",
           "#00cc96",
           "#ab63fa",
           "#FFA15A",
           "#19d3f3",
           "#FF6692",
           "#B6E880",
           "#FF97FF",
           "#FECB52"
          ],
          "font": {
           "color": "#2a3f5f"
          },
          "geo": {
           "bgcolor": "white",
           "lakecolor": "white",
           "landcolor": "#E5ECF6",
           "showlakes": true,
           "showland": true,
           "subunitcolor": "white"
          },
          "hoverlabel": {
           "align": "left"
          },
          "hovermode": "closest",
          "mapbox": {
           "style": "light"
          },
          "paper_bgcolor": "white",
          "plot_bgcolor": "#E5ECF6",
          "polar": {
           "angularaxis": {
            "gridcolor": "white",
            "linecolor": "white",
            "ticks": ""
           },
           "bgcolor": "#E5ECF6",
           "radialaxis": {
            "gridcolor": "white",
            "linecolor": "white",
            "ticks": ""
           }
          },
          "scene": {
           "xaxis": {
            "backgroundcolor": "#E5ECF6",
            "gridcolor": "white",
            "gridwidth": 2,
            "linecolor": "white",
            "showbackground": true,
            "ticks": "",
            "zerolinecolor": "white"
           },
           "yaxis": {
            "backgroundcolor": "#E5ECF6",
            "gridcolor": "white",
            "gridwidth": 2,
            "linecolor": "white",
            "showbackground": true,
            "ticks": "",
            "zerolinecolor": "white"
           },
           "zaxis": {
            "backgroundcolor": "#E5ECF6",
            "gridcolor": "white",
            "gridwidth": 2,
            "linecolor": "white",
            "showbackground": true,
            "ticks": "",
            "zerolinecolor": "white"
           }
          },
          "shapedefaults": {
           "line": {
            "color": "#2a3f5f"
           }
          },
          "ternary": {
           "aaxis": {
            "gridcolor": "white",
            "linecolor": "white",
            "ticks": ""
           },
           "baxis": {
            "gridcolor": "white",
            "linecolor": "white",
            "ticks": ""
           },
           "bgcolor": "#E5ECF6",
           "caxis": {
            "gridcolor": "white",
            "linecolor": "white",
            "ticks": ""
           }
          },
          "title": {
           "x": 0.05
          },
          "xaxis": {
           "automargin": true,
           "gridcolor": "white",
           "linecolor": "white",
           "ticks": "",
           "title": {
            "standoff": 15
           },
           "zerolinecolor": "white",
           "zerolinewidth": 2
          },
          "yaxis": {
           "automargin": true,
           "gridcolor": "white",
           "linecolor": "white",
           "ticks": "",
           "title": {
            "standoff": 15
           },
           "zerolinecolor": "white",
           "zerolinewidth": 2
          }
         }
        }
       }
      },
      "text/html": [
       "<div>\n",
       "        \n",
       "        \n",
       "            <div id=\"45c8bf80-95eb-40ec-b81d-3d0e4ca4d386\" class=\"plotly-graph-div\" style=\"height:525px; width:100%;\"></div>\n",
       "            <script type=\"text/javascript\">\n",
       "                require([\"plotly\"], function(Plotly) {\n",
       "                    window.PLOTLYENV=window.PLOTLYENV || {};\n",
       "                    \n",
       "                if (document.getElementById(\"45c8bf80-95eb-40ec-b81d-3d0e4ca4d386\")) {\n",
       "                    Plotly.newPlot(\n",
       "                        '45c8bf80-95eb-40ec-b81d-3d0e4ca4d386',\n",
       "                        [{\"name\": \"SF Zoo\", \"type\": \"bar\", \"x\": [\"giraffes\", \"orangutans\", \"monkeys\"], \"y\": [20, 14, 23]}, {\"name\": \"LA Zoo\", \"type\": \"bar\", \"x\": [\"giraffes\", \"orangutans\", \"monkeys\"], \"y\": [12, 18, 29]}],\n",
       "                        {\"barmode\": \"group\", \"template\": {\"data\": {\"bar\": [{\"error_x\": {\"color\": \"#2a3f5f\"}, \"error_y\": {\"color\": \"#2a3f5f\"}, \"marker\": {\"line\": {\"color\": \"#E5ECF6\", \"width\": 0.5}}, \"type\": \"bar\"}], \"barpolar\": [{\"marker\": {\"line\": {\"color\": \"#E5ECF6\", \"width\": 0.5}}, \"type\": \"barpolar\"}], \"carpet\": [{\"aaxis\": {\"endlinecolor\": \"#2a3f5f\", \"gridcolor\": \"white\", \"linecolor\": \"white\", \"minorgridcolor\": \"white\", \"startlinecolor\": \"#2a3f5f\"}, \"baxis\": {\"endlinecolor\": \"#2a3f5f\", \"gridcolor\": \"white\", \"linecolor\": \"white\", \"minorgridcolor\": \"white\", \"startlinecolor\": \"#2a3f5f\"}, \"type\": \"carpet\"}], \"choropleth\": [{\"colorbar\": {\"outlinewidth\": 0, \"ticks\": \"\"}, \"type\": \"choropleth\"}], \"contour\": [{\"colorbar\": {\"outlinewidth\": 0, \"ticks\": \"\"}, \"colorscale\": [[0.0, \"#0d0887\"], [0.1111111111111111, \"#46039f\"], [0.2222222222222222, \"#7201a8\"], [0.3333333333333333, \"#9c179e\"], [0.4444444444444444, \"#bd3786\"], [0.5555555555555556, \"#d8576b\"], [0.6666666666666666, \"#ed7953\"], [0.7777777777777778, \"#fb9f3a\"], [0.8888888888888888, \"#fdca26\"], [1.0, \"#f0f921\"]], \"type\": \"contour\"}], \"contourcarpet\": [{\"colorbar\": {\"outlinewidth\": 0, \"ticks\": \"\"}, \"type\": \"contourcarpet\"}], \"heatmap\": [{\"colorbar\": {\"outlinewidth\": 0, \"ticks\": \"\"}, \"colorscale\": [[0.0, \"#0d0887\"], [0.1111111111111111, \"#46039f\"], [0.2222222222222222, \"#7201a8\"], [0.3333333333333333, \"#9c179e\"], [0.4444444444444444, \"#bd3786\"], [0.5555555555555556, \"#d8576b\"], [0.6666666666666666, \"#ed7953\"], [0.7777777777777778, \"#fb9f3a\"], [0.8888888888888888, \"#fdca26\"], [1.0, \"#f0f921\"]], \"type\": \"heatmap\"}], \"heatmapgl\": [{\"colorbar\": {\"outlinewidth\": 0, \"ticks\": \"\"}, \"colorscale\": [[0.0, \"#0d0887\"], [0.1111111111111111, \"#46039f\"], [0.2222222222222222, \"#7201a8\"], [0.3333333333333333, \"#9c179e\"], [0.4444444444444444, \"#bd3786\"], [0.5555555555555556, \"#d8576b\"], [0.6666666666666666, \"#ed7953\"], [0.7777777777777778, \"#fb9f3a\"], [0.8888888888888888, \"#fdca26\"], [1.0, \"#f0f921\"]], \"type\": \"heatmapgl\"}], \"histogram\": [{\"marker\": {\"colorbar\": {\"outlinewidth\": 0, \"ticks\": \"\"}}, \"type\": \"histogram\"}], \"histogram2d\": [{\"colorbar\": {\"outlinewidth\": 0, \"ticks\": \"\"}, \"colorscale\": [[0.0, \"#0d0887\"], [0.1111111111111111, \"#46039f\"], [0.2222222222222222, \"#7201a8\"], [0.3333333333333333, \"#9c179e\"], [0.4444444444444444, \"#bd3786\"], [0.5555555555555556, \"#d8576b\"], [0.6666666666666666, \"#ed7953\"], [0.7777777777777778, \"#fb9f3a\"], [0.8888888888888888, \"#fdca26\"], [1.0, \"#f0f921\"]], \"type\": \"histogram2d\"}], \"histogram2dcontour\": [{\"colorbar\": {\"outlinewidth\": 0, \"ticks\": \"\"}, \"colorscale\": [[0.0, \"#0d0887\"], [0.1111111111111111, \"#46039f\"], [0.2222222222222222, \"#7201a8\"], [0.3333333333333333, \"#9c179e\"], [0.4444444444444444, \"#bd3786\"], [0.5555555555555556, \"#d8576b\"], [0.6666666666666666, \"#ed7953\"], [0.7777777777777778, \"#fb9f3a\"], [0.8888888888888888, \"#fdca26\"], [1.0, \"#f0f921\"]], \"type\": \"histogram2dcontour\"}], \"mesh3d\": [{\"colorbar\": {\"outlinewidth\": 0, \"ticks\": \"\"}, \"type\": \"mesh3d\"}], \"parcoords\": [{\"line\": {\"colorbar\": {\"outlinewidth\": 0, \"ticks\": \"\"}}, \"type\": \"parcoords\"}], \"pie\": [{\"automargin\": true, \"type\": \"pie\"}], \"scatter\": [{\"marker\": {\"colorbar\": {\"outlinewidth\": 0, \"ticks\": \"\"}}, \"type\": \"scatter\"}], \"scatter3d\": [{\"line\": {\"colorbar\": {\"outlinewidth\": 0, \"ticks\": \"\"}}, \"marker\": {\"colorbar\": {\"outlinewidth\": 0, \"ticks\": \"\"}}, \"type\": \"scatter3d\"}], \"scattercarpet\": [{\"marker\": {\"colorbar\": {\"outlinewidth\": 0, \"ticks\": \"\"}}, \"type\": \"scattercarpet\"}], \"scattergeo\": [{\"marker\": {\"colorbar\": {\"outlinewidth\": 0, \"ticks\": \"\"}}, \"type\": \"scattergeo\"}], \"scattergl\": [{\"marker\": {\"colorbar\": {\"outlinewidth\": 0, \"ticks\": \"\"}}, \"type\": \"scattergl\"}], \"scattermapbox\": [{\"marker\": {\"colorbar\": {\"outlinewidth\": 0, \"ticks\": \"\"}}, \"type\": \"scattermapbox\"}], \"scatterpolar\": [{\"marker\": {\"colorbar\": {\"outlinewidth\": 0, \"ticks\": \"\"}}, \"type\": \"scatterpolar\"}], \"scatterpolargl\": [{\"marker\": {\"colorbar\": {\"outlinewidth\": 0, \"ticks\": \"\"}}, \"type\": \"scatterpolargl\"}], \"scatterternary\": [{\"marker\": {\"colorbar\": {\"outlinewidth\": 0, \"ticks\": \"\"}}, \"type\": \"scatterternary\"}], \"surface\": [{\"colorbar\": {\"outlinewidth\": 0, \"ticks\": \"\"}, \"colorscale\": [[0.0, \"#0d0887\"], [0.1111111111111111, \"#46039f\"], [0.2222222222222222, \"#7201a8\"], [0.3333333333333333, \"#9c179e\"], [0.4444444444444444, \"#bd3786\"], [0.5555555555555556, \"#d8576b\"], [0.6666666666666666, \"#ed7953\"], [0.7777777777777778, \"#fb9f3a\"], [0.8888888888888888, \"#fdca26\"], [1.0, \"#f0f921\"]], \"type\": \"surface\"}], \"table\": [{\"cells\": {\"fill\": {\"color\": \"#EBF0F8\"}, \"line\": {\"color\": \"white\"}}, \"header\": {\"fill\": {\"color\": \"#C8D4E3\"}, \"line\": {\"color\": \"white\"}}, \"type\": \"table\"}]}, \"layout\": {\"annotationdefaults\": {\"arrowcolor\": \"#2a3f5f\", \"arrowhead\": 0, \"arrowwidth\": 1}, \"coloraxis\": {\"colorbar\": {\"outlinewidth\": 0, \"ticks\": \"\"}}, \"colorscale\": {\"diverging\": [[0, \"#8e0152\"], [0.1, \"#c51b7d\"], [0.2, \"#de77ae\"], [0.3, \"#f1b6da\"], [0.4, \"#fde0ef\"], [0.5, \"#f7f7f7\"], [0.6, \"#e6f5d0\"], [0.7, \"#b8e186\"], [0.8, \"#7fbc41\"], [0.9, \"#4d9221\"], [1, \"#276419\"]], \"sequential\": [[0.0, \"#0d0887\"], [0.1111111111111111, \"#46039f\"], [0.2222222222222222, \"#7201a8\"], [0.3333333333333333, \"#9c179e\"], [0.4444444444444444, \"#bd3786\"], [0.5555555555555556, \"#d8576b\"], [0.6666666666666666, \"#ed7953\"], [0.7777777777777778, \"#fb9f3a\"], [0.8888888888888888, \"#fdca26\"], [1.0, \"#f0f921\"]], \"sequentialminus\": [[0.0, \"#0d0887\"], [0.1111111111111111, \"#46039f\"], [0.2222222222222222, \"#7201a8\"], [0.3333333333333333, \"#9c179e\"], [0.4444444444444444, \"#bd3786\"], [0.5555555555555556, \"#d8576b\"], [0.6666666666666666, \"#ed7953\"], [0.7777777777777778, \"#fb9f3a\"], [0.8888888888888888, \"#fdca26\"], [1.0, \"#f0f921\"]]}, \"colorway\": [\"#636efa\", \"#EF553B\", \"#00cc96\", \"#ab63fa\", \"#FFA15A\", \"#19d3f3\", \"#FF6692\", \"#B6E880\", \"#FF97FF\", \"#FECB52\"], \"font\": {\"color\": \"#2a3f5f\"}, \"geo\": {\"bgcolor\": \"white\", \"lakecolor\": \"white\", \"landcolor\": \"#E5ECF6\", \"showlakes\": true, \"showland\": true, \"subunitcolor\": \"white\"}, \"hoverlabel\": {\"align\": \"left\"}, \"hovermode\": \"closest\", \"mapbox\": {\"style\": \"light\"}, \"paper_bgcolor\": \"white\", \"plot_bgcolor\": \"#E5ECF6\", \"polar\": {\"angularaxis\": {\"gridcolor\": \"white\", \"linecolor\": \"white\", \"ticks\": \"\"}, \"bgcolor\": \"#E5ECF6\", \"radialaxis\": {\"gridcolor\": \"white\", \"linecolor\": \"white\", \"ticks\": \"\"}}, \"scene\": {\"xaxis\": {\"backgroundcolor\": \"#E5ECF6\", \"gridcolor\": \"white\", \"gridwidth\": 2, \"linecolor\": \"white\", \"showbackground\": true, \"ticks\": \"\", \"zerolinecolor\": \"white\"}, \"yaxis\": {\"backgroundcolor\": \"#E5ECF6\", \"gridcolor\": \"white\", \"gridwidth\": 2, \"linecolor\": \"white\", \"showbackground\": true, \"ticks\": \"\", \"zerolinecolor\": \"white\"}, \"zaxis\": {\"backgroundcolor\": \"#E5ECF6\", \"gridcolor\": \"white\", \"gridwidth\": 2, \"linecolor\": \"white\", \"showbackground\": true, \"ticks\": \"\", \"zerolinecolor\": \"white\"}}, \"shapedefaults\": {\"line\": {\"color\": \"#2a3f5f\"}}, \"ternary\": {\"aaxis\": {\"gridcolor\": \"white\", \"linecolor\": \"white\", \"ticks\": \"\"}, \"baxis\": {\"gridcolor\": \"white\", \"linecolor\": \"white\", \"ticks\": \"\"}, \"bgcolor\": \"#E5ECF6\", \"caxis\": {\"gridcolor\": \"white\", \"linecolor\": \"white\", \"ticks\": \"\"}}, \"title\": {\"x\": 0.05}, \"xaxis\": {\"automargin\": true, \"gridcolor\": \"white\", \"linecolor\": \"white\", \"ticks\": \"\", \"title\": {\"standoff\": 15}, \"zerolinecolor\": \"white\", \"zerolinewidth\": 2}, \"yaxis\": {\"automargin\": true, \"gridcolor\": \"white\", \"linecolor\": \"white\", \"ticks\": \"\", \"title\": {\"standoff\": 15}, \"zerolinecolor\": \"white\", \"zerolinewidth\": 2}}}},\n",
       "                        {\"responsive\": true}\n",
       "                    ).then(function(){\n",
       "                            \n",
       "var gd = document.getElementById('45c8bf80-95eb-40ec-b81d-3d0e4ca4d386');\n",
       "var x = new MutationObserver(function (mutations, observer) {{\n",
       "        var display = window.getComputedStyle(gd).display;\n",
       "        if (!display || display === 'none') {{\n",
       "            console.log([gd, 'removed!']);\n",
       "            Plotly.purge(gd);\n",
       "            observer.disconnect();\n",
       "        }}\n",
       "}});\n",
       "\n",
       "// Listen for the removal of the full notebook cells\n",
       "var notebookContainer = gd.closest('#notebook-container');\n",
       "if (notebookContainer) {{\n",
       "    x.observe(notebookContainer, {childList: true});\n",
       "}}\n",
       "\n",
       "// Listen for the clearing of the current output cell\n",
       "var outputEl = gd.closest('.output');\n",
       "if (outputEl) {{\n",
       "    x.observe(outputEl, {childList: true});\n",
       "}}\n",
       "\n",
       "                        })\n",
       "                };\n",
       "                });\n",
       "            </script>\n",
       "        </div>"
      ]
     },
     "metadata": {},
     "output_type": "display_data"
    }
   ],
   "source": [
    "animals=['giraffes', 'orangutans', 'monkeys']\n",
    "\n",
    "fig = go.Figure(data=[\n",
    "    go.Bar(name='SF Zoo', x=animals, y=[20, 14, 23]),\n",
    "    go.Bar(name='LA Zoo', x=animals, y=[12, 18, 29])\n",
    "])\n",
    "# Change the bar mode\n",
    "fig.update_layout(barmode='group')\n",
    "fig.show()"
   ]
  },
  {
   "cell_type": "code",
   "execution_count": 21,
   "metadata": {},
   "outputs": [
    {
     "name": "stdout",
     "output_type": "stream",
     "text": [
      "1; ['TAPE.stability.MAE', 'TAPE.stability.MSE', 'TAPE.stability.S_Corr', 'TAPE.fluorescence.MAE', 'TAPE.fluorescence.MSE', 'TAPE.fluorescence.S_Corr', 'DMS.protein_g.MAE', 'DMS.protein_g.MSE', 'DMS.protein_g.S_Corr']\n",
      "['TAPE.stability.MSE', 'TAPE.fluorescence.MSE', 'DMS.protein_g.MSE']\n"
     ]
    }
   ],
   "source": [
    "select_tasks = ['stability', 'fluorescence', 'DDG_protein_g']#, 'DMS_2H11', 'DMS_1D5R']\n",
    "select_metric = 'MSE'\n",
    "tasks = get_selected_tasks(select_tasks)\n",
    "print('1;',tasks)\n",
    "tasks = [task for task in tasks if select_metric in task ]\n",
    "print(tasks)"
   ]
  },
  {
   "cell_type": "code",
   "execution_count": null,
   "metadata": {},
   "outputs": [],
   "source": []
  }
 ],
 "metadata": {
  "kernelspec": {
   "display_name": "Python 3",
   "language": "python",
   "name": "python3"
  },
  "language_info": {
   "codemirror_mode": {
    "name": "ipython",
    "version": 3
   },
   "file_extension": ".py",
   "mimetype": "text/x-python",
   "name": "python",
   "nbconvert_exporter": "python",
   "pygments_lexer": "ipython3",
   "version": "3.7.4"
  }
 },
 "nbformat": 4,
 "nbformat_minor": 4
}
